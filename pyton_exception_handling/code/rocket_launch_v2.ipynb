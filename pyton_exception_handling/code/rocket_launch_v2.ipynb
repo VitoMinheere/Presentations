{
 "cells": [
  {
   "cell_type": "markdown",
   "id": "dae4d4ac",
   "metadata": {
    "slideshow": {
     "slide_type": "slide"
    }
   },
   "source": [
    "## Error handling is boring but this is the Exception\n",
    "\n",
    "### Vito Minheere"
   ]
  },
  {
   "cell_type": "markdown",
   "id": "72bb84ce",
   "metadata": {
    "slideshow": {
     "slide_type": "notes"
    }
   },
   "source": [
    "Codebeez meetup 17th of May\n",
    "\n",
    "Pygrunn 26th of May\n",
    "\n",
    "Submitted at EuroPython 19th until 21st of July"
   ]
  },
  {
   "cell_type": "markdown",
   "id": "efb9bc8d",
   "metadata": {
    "slideshow": {
     "slide_type": "slide"
    }
   },
   "source": [
    "# What is an Exception?"
   ]
  },
  {
   "cell_type": "code",
   "execution_count": 44,
   "id": "42f60d60",
   "metadata": {},
   "outputs": [
    {
     "ename": "TypeError",
     "evalue": "exceptions must derive from BaseException",
     "output_type": "error",
     "traceback": [
      "\u001b[0;31m---------------------------------------------------------------------------\u001b[0m",
      "\u001b[0;31mTypeError\u001b[0m                                 Traceback (most recent call last)",
      "Cell \u001b[0;32mIn[44], line 1\u001b[0m\n\u001b[0;32m----> 1\u001b[0m \u001b[38;5;28;01mraise\u001b[39;00m \u001b[38;5;124m\"\u001b[39m\u001b[38;5;124mException\u001b[39m\u001b[38;5;124m\"\u001b[39m\n",
      "\u001b[0;31mTypeError\u001b[0m: exceptions must derive from BaseException"
     ]
    }
   ],
   "source": [
    "raise \"Exception\""
   ]
  },
  {
   "cell_type": "markdown",
   "id": "803b60f5",
   "metadata": {
    "slideshow": {
     "slide_type": "notes"
    }
   },
   "source": [
    "An Exception is an object as many other things in Python. Exception extends the BaseException.\n",
    "\n",
    "Extend it to create other Exceptions with the same attributes\n",
    "\n",
    "Internal Python Exceptions should use BaseException, all others should use Exception\n",
    "\n"
   ]
  },
  {
   "cell_type": "markdown",
   "id": "3f559abf",
   "metadata": {
    "slideshow": {
     "slide_type": "slide"
    }
   },
   "source": [
    "# Exception hierarchy"
   ]
  },
  {
   "cell_type": "markdown",
   "id": "d2f5a68b",
   "metadata": {
    "slideshow": {
     "slide_type": "-"
    }
   },
   "source": [
    "BaseException\n",
    " ├── GeneratorExit\n",
    " ├── KeyboardInterrupt\n",
    " ├── SystemExit\n",
    " └── Exception\n",
    "      ├── ArithmeticError\n",
    "      │    ├── FloatingPointError\n",
    "      │    ├── OverflowError\n",
    "      │    └── ZeroDivisionError\n",
    "      ├── AttributeError\n",
    "      ├── EOFError\n",
    "      ├── LookupError\n",
    "      │    ├── IndexError\n",
    "      │    └── KeyError"
   ]
  },
  {
   "cell_type": "markdown",
   "id": "b1b349c7",
   "metadata": {
    "slideshow": {
     "slide_type": "notes"
    }
   },
   "source": [
    "Built-in errors also have their hierarchy. \n",
    "\n",
    "Exception hierarchy can serve an important purpose: \n",
    "\n",
    "the user does not have to know all the specific exceptions "
   ]
  },
  {
   "cell_type": "markdown",
   "id": "287ef620",
   "metadata": {
    "slideshow": {
     "slide_type": "slide"
    }
   },
   "source": [
    "# Handling Exceptions"
   ]
  },
  {
   "cell_type": "code",
   "execution_count": 45,
   "id": "dc7097a1",
   "metadata": {
    "slideshow": {
     "slide_type": "-"
    }
   },
   "outputs": [
    {
     "ename": "ZeroDivisionError",
     "evalue": "division by zero",
     "output_type": "error",
     "traceback": [
      "\u001b[0;31m---------------------------------------------------------------------------\u001b[0m",
      "\u001b[0;31mZeroDivisionError\u001b[0m                         Traceback (most recent call last)",
      "Cell \u001b[0;32mIn[45], line 1\u001b[0m\n\u001b[0;32m----> 1\u001b[0m \u001b[38;5;241;43m1\u001b[39;49m\u001b[43m \u001b[49m\u001b[38;5;241;43m/\u001b[39;49m\u001b[43m \u001b[49m\u001b[38;5;241;43m0\u001b[39;49m\n",
      "\u001b[0;31mZeroDivisionError\u001b[0m: division by zero"
     ]
    }
   ],
   "source": [
    "1 / 0"
   ]
  },
  {
   "cell_type": "markdown",
   "id": "3a57779f",
   "metadata": {
    "slideshow": {
     "slide_type": "subslide"
    }
   },
   "source": [
    "# Handling Exceptions"
   ]
  },
  {
   "cell_type": "code",
   "execution_count": 46,
   "id": "1a5c86ed",
   "metadata": {
    "slideshow": {
     "slide_type": "-"
    }
   },
   "outputs": [
    {
     "name": "stdout",
     "output_type": "stream",
     "text": [
      "Zero Division raised\n"
     ]
    }
   ],
   "source": [
    "try:\n",
    "    1 / 0\n",
    "    \n",
    "except ZeroDivisionError as e:\n",
    "    print(\"Zero Division raised\")"
   ]
  },
  {
   "cell_type": "markdown",
   "id": "9cc82dc7",
   "metadata": {
    "slideshow": {
     "slide_type": "subslide"
    }
   },
   "source": [
    "# Handling Exceptions"
   ]
  },
  {
   "cell_type": "code",
   "execution_count": 47,
   "id": "f1f11fe4",
   "metadata": {
    "slideshow": {
     "slide_type": "-"
    }
   },
   "outputs": [
    {
     "name": "stdout",
     "output_type": "stream",
     "text": [
      "Arithmetic Error raised\n"
     ]
    },
    {
     "ename": "ZeroDivisionError",
     "evalue": "division by zero",
     "output_type": "error",
     "traceback": [
      "\u001b[0;31m---------------------------------------------------------------------------\u001b[0m",
      "\u001b[0;31mZeroDivisionError\u001b[0m                         Traceback (most recent call last)",
      "Cell \u001b[0;32mIn[47], line 6\u001b[0m\n\u001b[1;32m      4\u001b[0m \u001b[38;5;28;01mexcept\u001b[39;00m \u001b[38;5;167;01mArithmeticError\u001b[39;00m \u001b[38;5;28;01mas\u001b[39;00m e:\n\u001b[1;32m      5\u001b[0m     \u001b[38;5;28mprint\u001b[39m(\u001b[38;5;124m\"\u001b[39m\u001b[38;5;124mArithmetic Error raised\u001b[39m\u001b[38;5;124m\"\u001b[39m)\n\u001b[0;32m----> 6\u001b[0m     \u001b[38;5;28;01mraise\u001b[39;00m e\n\u001b[1;32m      8\u001b[0m \u001b[38;5;28;01mexcept\u001b[39;00m \u001b[38;5;167;01mZeroDivisionError\u001b[39;00m \u001b[38;5;28;01mas\u001b[39;00m e:\n\u001b[1;32m      9\u001b[0m     \u001b[38;5;28mprint\u001b[39m(\u001b[38;5;124m\"\u001b[39m\u001b[38;5;124mZero Division raised\u001b[39m\u001b[38;5;124m\"\u001b[39m)\n",
      "Cell \u001b[0;32mIn[47], line 2\u001b[0m\n\u001b[1;32m      1\u001b[0m \u001b[38;5;28;01mtry\u001b[39;00m:\n\u001b[0;32m----> 2\u001b[0m     \u001b[38;5;241;43m1\u001b[39;49m\u001b[43m \u001b[49m\u001b[38;5;241;43m/\u001b[39;49m\u001b[43m \u001b[49m\u001b[38;5;241;43m0\u001b[39;49m\n\u001b[1;32m      4\u001b[0m \u001b[38;5;28;01mexcept\u001b[39;00m \u001b[38;5;167;01mArithmeticError\u001b[39;00m \u001b[38;5;28;01mas\u001b[39;00m e:\n\u001b[1;32m      5\u001b[0m     \u001b[38;5;28mprint\u001b[39m(\u001b[38;5;124m\"\u001b[39m\u001b[38;5;124mArithmetic Error raised\u001b[39m\u001b[38;5;124m\"\u001b[39m)\n",
      "\u001b[0;31mZeroDivisionError\u001b[0m: division by zero"
     ]
    }
   ],
   "source": [
    "try:\n",
    "    1 / 0\n",
    "    \n",
    "except ArithmeticError as e:\n",
    "    print(\"Arithmetic Error raised\")\n",
    "    raise e\n",
    "    \n",
    "except ZeroDivisionError as e:\n",
    "    print(\"Zero Division raised\")\n",
    "    raise e"
   ]
  },
  {
   "cell_type": "markdown",
   "id": "24f7b206",
   "metadata": {
    "slideshow": {
     "slide_type": "notes"
    }
   },
   "source": [
    "Arithmetic error is higher on the hierarchy than ZeroDivisionError\n",
    "\n",
    "At most one except clause will trigger\n",
    "\n",
    "The first except clause that matches will trigger\n"
   ]
  },
  {
   "cell_type": "markdown",
   "id": "318ad8ee",
   "metadata": {
    "slideshow": {
     "slide_type": "subslide"
    }
   },
   "source": [
    "# Handling Exceptions"
   ]
  },
  {
   "cell_type": "code",
   "execution_count": 48,
   "id": "8971adb0",
   "metadata": {
    "slideshow": {
     "slide_type": "-"
    }
   },
   "outputs": [
    {
     "name": "stdout",
     "output_type": "stream",
     "text": [
      "Exception raised\n"
     ]
    }
   ],
   "source": [
    "try:\n",
    "    1 / 0\n",
    "\n",
    "except Exception as e:\n",
    "    print(\"Exception raised\")\n",
    "    \n",
    "except ArithmeticError as e:\n",
    "    print(\"Arithmetic Error raised\")\n",
    "    raise e\n",
    "    \n",
    "except ZeroDivisionError as e:\n",
    "    print(\"Zero Division raised\")\n",
    "    raise e       \n"
   ]
  },
  {
   "cell_type": "markdown",
   "id": "3c6cdb9e",
   "metadata": {
    "slideshow": {
     "slide_type": "notes"
    }
   },
   "source": [
    "except Exception is even higher and will be executed first\n"
   ]
  },
  {
   "cell_type": "markdown",
   "id": "5a3e25e6",
   "metadata": {
    "slideshow": {
     "slide_type": "subslide"
    }
   },
   "source": [
    "# Handling Exceptions"
   ]
  },
  {
   "cell_type": "code",
   "execution_count": 55,
   "id": "2b4cf4c4",
   "metadata": {
    "slideshow": {
     "slide_type": "-"
    }
   },
   "outputs": [],
   "source": [
    "try:\n",
    "    thisssss_function_does_not_exist()\n",
    "    \n",
    "except Exception as e:\n",
    "    pass\n",
    "    \n",
    "except ArithmeticError as e:\n",
    "    print(\"Arithmetic Error raised\")\n",
    "    raise e\n",
    "    \n",
    "except ZeroDivisionError as e:\n",
    "    print(\"Zero Division raised\")\n",
    "    raise e"
   ]
  },
  {
   "cell_type": "markdown",
   "id": "3762b05e",
   "metadata": {
    "slideshow": {
     "slide_type": "notes"
    }
   },
   "source": [
    "\n",
    "Be aware that Exception will also catch all other Exceptions derived from it\n",
    "\n",
    "Python is an interpreted language.\n",
    "Python uses Exceptions for both reporting errors while running the code and interpreting code. \n",
    "If you catch all Exceptions it will also catch NameErrors during interpreting"
   ]
  },
  {
   "cell_type": "markdown",
   "id": "44d4c5af",
   "metadata": {
    "slideshow": {
     "slide_type": "subslide"
    }
   },
   "source": [
    "# Handling Exceptions"
   ]
  },
  {
   "cell_type": "code",
   "execution_count": null,
   "id": "58fc35f0",
   "metadata": {
    "slideshow": {
     "slide_type": "-"
    }
   },
   "outputs": [],
   "source": [
    "import sys\n",
    "try:\n",
    "    sys.exit()\n",
    "    \n",
    "except Exception as e:\n",
    "    print(\"SystemExit caught\") \n",
    "    \n",
    "except BaseException as e:\n",
    "    print(\"SystemExit caught by BaseException\")  \n",
    "    \n",
    "except SystemExit as e:\n",
    "    print(\"Raised SystemExit\")"
   ]
  },
  {
   "cell_type": "markdown",
   "id": "432ca457",
   "metadata": {
    "slideshow": {
     "slide_type": "notes"
    }
   },
   "source": [
    "SystemExit is above Exception but extends BaseException"
   ]
  },
  {
   "cell_type": "markdown",
   "id": "2fcb468b",
   "metadata": {
    "slideshow": {
     "slide_type": "skip"
    }
   },
   "source": [
    "## Exception Attributes"
   ]
  },
  {
   "cell_type": "code",
   "execution_count": null,
   "id": "4cb416b0",
   "metadata": {
    "slideshow": {
     "slide_type": "skip"
    }
   },
   "outputs": [],
   "source": [
    "try:\n",
    "    b'\\x80'.decode(\"utf-8\")\n",
    "except UnicodeError as e:\n",
    "    print(e)\n",
    "    print(e.encoding)\n",
    "    print(e.reason)\n",
    "    print(e.object)\n",
    "    print(e.start)\n",
    "    print(e.end)\n"
   ]
  },
  {
   "cell_type": "markdown",
   "id": "c847631a",
   "metadata": {
    "slideshow": {
     "slide_type": "skip"
    }
   },
   "source": [
    "Exceptions are extendable with attributes\n",
    "\n",
    "You could use them to pass along information to other code handling the exception\n",
    "\n",
    "Or to make the Exception more clear to end users encountering them"
   ]
  },
  {
   "cell_type": "markdown",
   "id": "6c5dee73",
   "metadata": {
    "slideshow": {
     "slide_type": "slide"
    }
   },
   "source": [
    "# NAASA, NASA As A Service\n",
    "\n",
    "\n",
    "#### Launch a rocket via a Python module. \n",
    "#### Rocket will be supplied. However we have BYOC - Bring Your Own Crew\n",
    "\n",
    "### No guarantees, only Exceptions"
   ]
  },
  {
   "cell_type": "markdown",
   "id": "527b7fa5",
   "metadata": {
    "slideshow": {
     "slide_type": "notes"
    }
   },
   "source": [
    "It is rocket science so a lot of things can go wrong. \n",
    "\n",
    "Before the launch you could exit your program and call it off if critical errors arise \n",
    "\n",
    "but you can’t just reset the rocket when it is in mid flight. \n",
    "\n",
    "In this case we are both the creator of the module and also the user.\n",
    "We will use a bit of defensive programming to make sure edge cases will be handled and the rocket will not crash. "
   ]
  },
  {
   "cell_type": "markdown",
   "id": "68ceda95",
   "metadata": {
    "slideshow": {
     "slide_type": "slide"
    }
   },
   "source": [
    "## The Rocket"
   ]
  },
  {
   "cell_type": "code",
   "execution_count": null,
   "id": "aeeb411d",
   "metadata": {
    "slideshow": {
     "slide_type": "slide"
    }
   },
   "outputs": [],
   "source": [
    "from classes.fuel_tank import FuelTank\n",
    "from classes.command_centre import CommandCentre\n",
    "from classes.engine import Engine\n",
    "\n",
    "class Rocket:\n",
    "    def __init__(self, name):\n",
    "        self.name = name\n",
    "        self.altitude = 0\n",
    "        self.crew = []\n",
    "        self.fuel_tank = FuelTank(\"Hydrogen\", 100)\n",
    "        self.command_centre = CommandCentre()\n",
    "        self.engine = Engine(motors=4)\n",
    "        self.startup_completed = False\n",
    "        \n",
    "    def __str__(self):\n",
    "        return f\"Rocket {self.name} has {self.engine.motors} motors and is at an altitude of {self.altitude} meters\"\n",
    "         \n",
    "rocket = Rocket(\"Artemis 1\")\n",
    "print(rocket)"
   ]
  },
  {
   "cell_type": "code",
   "execution_count": null,
   "id": "b8ada197",
   "metadata": {
    "slideshow": {
     "slide_type": "subslide"
    }
   },
   "outputs": [],
   "source": [
    "class FuelTank:\n",
    "    def __init__(self, fuel_type: str, max_volume: int) -> None:\n",
    "        self.fuel_type = fuel_type\n",
    "        self.volume = 0\n",
    "        self.max_volume = max_volume"
   ]
  },
  {
   "cell_type": "markdown",
   "id": "e2d5d373",
   "metadata": {
    "slideshow": {
     "slide_type": "slide"
    }
   },
   "source": [
    "# Custom Exceptions"
   ]
  },
  {
   "cell_type": "code",
   "execution_count": null,
   "id": "c973c975",
   "metadata": {
    "slideshow": {
     "slide_type": "subslide"
    }
   },
   "outputs": [],
   "source": [
    " class FuelTankError(Exception):\n",
    "        pass\n",
    "\n",
    "raise FuelTankError(\"Something is wrong with the fuel tank\")"
   ]
  },
  {
   "cell_type": "markdown",
   "id": "9b3a00ed",
   "metadata": {
    "slideshow": {
     "slide_type": "notes"
    }
   },
   "source": [
    "To create a custom Exception you can create a class and extend Exception\n",
    "\n",
    "Usually you can keep the base empty so that child Exception can set their own messages without them being overwritten by the base"
   ]
  },
  {
   "cell_type": "markdown",
   "id": "9a42dff4",
   "metadata": {
    "slideshow": {
     "slide_type": "subslide"
    }
   },
   "source": [
    "# Custom Exceptions"
   ]
  },
  {
   "cell_type": "code",
   "execution_count": null,
   "id": "155bfe20",
   "metadata": {
    "slideshow": {
     "slide_type": "-"
    }
   },
   "outputs": [],
   "source": [
    "class FuelTypeError(FuelTankError):\n",
    "    \n",
    "    def __init__(self, fuel_type, allowed_fuel):\n",
    "        message = f\"Invalid fuel type: {fuel_type}. Only '{allowed_fuel}' fuel is allowed.\"\n",
    "        super().__init__(message)\n",
    "\n",
    "class FuelLevelError(FuelTankError):  \n",
    "    \n",
    "    def __init__(self, max_volume, volume):\n",
    "        amount_left_to_fill = max_volume - volume\n",
    "        message = f\"Max amount of fuel to add is {str(amount_left_to_fill)} liters\" \n",
    "        self.value = amount_left_to_fill\n",
    "        super().__init__(message)\n",
    "\n",
    "raise FuelLevelError(10, 7)"
   ]
  },
  {
   "cell_type": "markdown",
   "id": "09bef1a6",
   "metadata": {
    "slideshow": {
     "slide_type": "subslide"
    }
   },
   "source": [
    "# Custom Exceptions"
   ]
  },
  {
   "cell_type": "code",
   "execution_count": null,
   "id": "03198916",
   "metadata": {
    "slideshow": {
     "slide_type": "-"
    }
   },
   "outputs": [],
   "source": [
    "def refuel(self, fuel_type, amount):\n",
    "    if fuel_type != self.fuel_type:\n",
    "        raise FuelTypeError(fuel_type)\n",
    "        \n",
    "    elif (self.volume + amount) > self.max_volume:\n",
    "        raise FuelLevelError(self.max_volume, self.volume)\n",
    "        \n",
    "    else:\n",
    "        self.volume += amount\n",
    "        print(f\"Fuel tank refueled. Fuel level is now {self.volume} liter.\")"
   ]
  },
  {
   "cell_type": "markdown",
   "id": "1d250a98",
   "metadata": {
    "slideshow": {
     "slide_type": "notes"
    }
   },
   "source": [
    "Build a hierarchy in the custom exceptions. \n",
    "\n",
    "FuelException will be caught before FuelTankException when both are in the except clause.\n",
    "\n"
   ]
  },
  {
   "cell_type": "markdown",
   "id": "1b24ab3f",
   "metadata": {
    "slideshow": {
     "slide_type": "subslide"
    }
   },
   "source": [
    "# Custom Exceptions"
   ]
  },
  {
   "cell_type": "code",
   "execution_count": null,
   "id": "c85f7af4",
   "metadata": {
    "slideshow": {
     "slide_type": "-"
    }
   },
   "outputs": [],
   "source": [
    "try:\n",
    "    rocket.fuel_tank.refuel(\"Diesel\", 100)\n",
    "    \n",
    "except FuelTankError as e:\n",
    "    print(\"FuelTankError\")\n",
    "    print(e)\n",
    "    raise e\n",
    "    \n",
    "except FuelTypeError as e:\n",
    "    print(\"FuelTypeError\")\n",
    "    print(e)"
   ]
  },
  {
   "cell_type": "markdown",
   "id": "b0159d9b",
   "metadata": {
    "slideshow": {
     "slide_type": "notes"
    }
   },
   "source": [
    "Due to the hierarchy the base FuelTankException can be caught first. \n",
    "\n",
    "When you reraise the Exception it shows the FuelTypeException.\n",
    "\n",
    "End users of our module can put it as the last except block to catch any errors they might have missed."
   ]
  },
  {
   "cell_type": "code",
   "execution_count": null,
   "id": "66565404",
   "metadata": {
    "slideshow": {
     "slide_type": "slide"
    }
   },
   "outputs": [],
   "source": [
    "# Custom Exceptions"
   ]
  },
  {
   "cell_type": "code",
   "execution_count": null,
   "id": "0039437a",
   "metadata": {
    "slideshow": {
     "slide_type": "-"
    }
   },
   "outputs": [],
   "source": [
    "try:\n",
    "    rocket.fuel_tank.refuel(\"Diesel\", 100)\n",
    "    \n",
    "except FuelLevelError as e:\n",
    "    print(\"FuelLevelError\")\n",
    "    print(e)\n",
    "    raise e\n",
    "    \n",
    "except FuelTankError as e:\n",
    "    print(\"FuelTankError\")\n",
    "    print(e)\n",
    "    raise"
   ]
  },
  {
   "cell_type": "markdown",
   "id": "5844de01",
   "metadata": {
    "slideshow": {
     "slide_type": "notes"
    }
   },
   "source": [
    "Here is an example of setting the custom \"base\" exception in the last block\n",
    "\n",
    "The specific exception is missed in the code handling it\n",
    "\n",
    "The hierarchy still manages to catch it and display the correct Exception happening"
   ]
  },
  {
   "cell_type": "markdown",
   "id": "40d2df96",
   "metadata": {
    "slideshow": {
     "slide_type": "skip"
    }
   },
   "source": [
    "## But we \"own\" both the Rocket and the FuelTank"
   ]
  },
  {
   "cell_type": "markdown",
   "id": "63145d32",
   "metadata": {
    "slideshow": {
     "slide_type": "skip"
    }
   },
   "source": [
    "Since we wrote both Rocket and FuelTank and they only communicate with each other in this scenario. Why not let our system fix itself instead of sending Exceptions and inputs back and forth?"
   ]
  },
  {
   "cell_type": "code",
   "execution_count": null,
   "id": "a5ad4640",
   "metadata": {
    "slideshow": {
     "slide_type": "skip"
    }
   },
   "outputs": [],
   "source": [
    "from classes.rocket import Rocket\n",
    "rocket = Rocket(\"Artemis 1\")\n",
    "\n",
    "def refuel(self, fuel_type, amount):\n",
    "    try:\n",
    "        self.fuel_tank.refuel(fuel_type, amount)\n",
    "        \n",
    "    except FuelTypeError as e:\n",
    "        print(\"Switching to correct fuel and retrying\")\n",
    "        self.refuel(self.fuel_tank.fuel_type, amount)\n",
    "        \n",
    "    except FuelLevelError as e:\n",
    "        print(\"Setting correct fuel amount and retrying\")\n",
    "        self.refuel(fuel_type, e.value)\n",
    "        \n",
    "    else:\n",
    "        print(f\"{self.name} refueled.\")\n",
    "        \n",
    "rocket.refuel(\"Diesel\", 1000)"
   ]
  },
  {
   "cell_type": "markdown",
   "id": "5a113937",
   "metadata": {
    "slideshow": {
     "slide_type": "slide"
    }
   },
   "source": [
    "# Explicit chained exceptions"
   ]
  },
  {
   "cell_type": "code",
   "execution_count": null,
   "id": "b726eb95",
   "metadata": {
    "slideshow": {
     "slide_type": "slide"
    }
   },
   "outputs": [],
   "source": [
    "class Rocket:\n",
    "    def __init__(self, name):\n",
    "        self.name = name\n",
    "        self.altitude = 0\n",
    "        self.crew = []\n",
    "        self.fuel_tank = FuelTank(\"Hydrogen\", 100)\n",
    "        self.command_centre = CommandCentre()\n",
    "        self.engine = Engine(motors=4)\n",
    "        self.startup_completed = False"
   ]
  },
  {
   "cell_type": "markdown",
   "id": "be078285",
   "metadata": {
    "slideshow": {
     "slide_type": "notes"
    }
   },
   "source": [
    "As we saw earlier the Rocket class had an attribute called startup_completed. \n",
    "This could indicate a series of checks that have to be completed before being able to launch."
   ]
  },
  {
   "cell_type": "markdown",
   "id": "a3f23bbc",
   "metadata": {
    "slideshow": {
     "slide_type": "subslide"
    }
   },
   "source": [
    "# Explicit chained exceptions"
   ]
  },
  {
   "cell_type": "code",
   "execution_count": null,
   "id": "1e197555",
   "metadata": {
    "slideshow": {
     "slide_type": "-"
    }
   },
   "outputs": [],
   "source": [
    "class Crew:\n",
    "    def __init__(self, name, ready=False):\n",
    "        self.name = name\n",
    "        self.ready = ready\n",
    "        \n",
    "    def __str__(self):\n",
    "        return f\"{self.name} is {'ready' if self.ready else 'not ready'}\"\n",
    "        \n",
    "crew = [Crew(\"Alice\", True), Crew(\"Bob\")]\n",
    "backup_crew = [Crew(\"Carol\", True)]\n",
    "\n",
    "for member in crew:\n",
    "    print(member)\n",
    "\n",
    "for member in backup_crew:\n",
    "    print(member)\n",
    "\n"
   ]
  },
  {
   "cell_type": "code",
   "execution_count": null,
   "id": "bc444493",
   "metadata": {
    "slideshow": {
     "slide_type": "slide"
    }
   },
   "outputs": [],
   "source": [
    "# Explicit chained exceptions"
   ]
  },
  {
   "cell_type": "code",
   "execution_count": null,
   "id": "bba9defd",
   "metadata": {
    "slideshow": {
     "slide_type": "-"
    }
   },
   "outputs": [],
   "source": [
    "\n",
    "class RocketNotReadyError(Exception):\n",
    "    pass\n",
    "\n",
    "\n",
    "def personnel_check():\n",
    "    try:\n",
    "        print(\"\\tThe captain's name is\", crew[0].name)\n",
    "        print(\"\\tThe pilot's name is\", crew[1].name)\n",
    "        print(\"\\tThe mechanic's name is\", crew[2].name)\n",
    "    except IndexError as e:\n",
    "        raise RocketNotReadyError('Crew is incomplete') from e\n",
    "\n",
    "print('Final check procedure')\n",
    "\n",
    "personnel_check()"
   ]
  },
  {
   "cell_type": "markdown",
   "id": "d533f5bb",
   "metadata": {
    "slideshow": {
     "slide_type": "notes"
    }
   },
   "source": [
    "An Exception can be caught and reraised again in the except clause\n",
    "\n",
    "You can also use raise from to raise a new Exception but keep the old one in the stack trace"
   ]
  },
  {
   "cell_type": "markdown",
   "id": "4934910b",
   "metadata": {
    "slideshow": {
     "slide_type": "slide"
    }
   },
   "source": [
    "# Explicit chained exceptions"
   ]
  },
  {
   "cell_type": "code",
   "execution_count": null,
   "id": "2741b962",
   "metadata": {
    "slideshow": {
     "slide_type": "-"
    }
   },
   "outputs": [],
   "source": [
    "crew = [Crew(\"Alice\", True), Crew(\"Bob\")]\n",
    "backup_crew = [Crew(\"Carol\", True)]\n",
    "\n",
    "def personnel_check():\n",
    "    try:\n",
    "        print(\"\\tThe captain's name is\", crew[0].name)\n",
    "        print(\"\\tThe pilot's name is\", crew[1].name)\n",
    "        print(\"\\tThe mechanic's name is\", crew[2].name)\n",
    "        print(\"\\tThe engineer's name is\", crew[3].name)\n",
    "\n",
    "    except IndexError as e:\n",
    "        print(\"Missing crew member, adding backup crew\")\n",
    "        try:\n",
    "            crew.append(backup_crew.pop())\n",
    "            personnel_check()\n",
    "        except IndexError as e:\n",
    "            raise RocketNotReadyError('Crew is incomplete') from e\n"
   ]
  },
  {
   "cell_type": "code",
   "execution_count": null,
   "id": "4cf2b27e",
   "metadata": {
    "slideshow": {
     "slide_type": "subslide"
    }
   },
   "outputs": [],
   "source": [
    "try:\n",
    "    print('Final check procedure')\n",
    "    personnel_check()\n",
    "except RocketNotReadyError as f:\n",
    "    print('General exception: \"{}\", caused by \"{}\"'.format(f, f.__cause__))\n",
    "    raise Exception(\"Can't launch Rocket today\") from f"
   ]
  },
  {
   "cell_type": "markdown",
   "id": "0e82f214",
   "metadata": {
    "slideshow": {
     "slide_type": "notes"
    }
   },
   "source": [
    "The raise from can be extended again in another try except\n",
    "\n",
    "The Exception will travel up the chain to where it wil be caught\n",
    "\n",
    "See the traceback in the slide"
   ]
  },
  {
   "cell_type": "markdown",
   "id": "4027cac6",
   "metadata": {
    "slideshow": {
     "slide_type": "slide"
    }
   },
   "source": [
    "# Suppressing errors"
   ]
  },
  {
   "cell_type": "code",
   "execution_count": null,
   "id": "3ee22d94",
   "metadata": {
    "slideshow": {
     "slide_type": "-"
    }
   },
   "outputs": [],
   "source": [
    "fuels = [\"Diesel\", \"Hydrogen\"]\n",
    "\n",
    "fuels.remove(\"Gasoline\")"
   ]
  },
  {
   "cell_type": "markdown",
   "id": "2a7f6c36",
   "metadata": {
    "slideshow": {
     "slide_type": "subslide"
    }
   },
   "source": [
    "# Suppressing errors"
   ]
  },
  {
   "cell_type": "code",
   "execution_count": null,
   "id": "b3bc45ec",
   "metadata": {
    "slideshow": {
     "slide_type": "-"
    }
   },
   "outputs": [],
   "source": [
    "fuels = [\"Diesel\", \"Hydrogen\"]\n",
    "\n",
    "# (LBYL) Look before you leap:\n",
    "def remove_from_list(a_list, element):\n",
    "    if element in a_list:\n",
    "        a_list.remove(element)\n",
    "        \n",
    "remove_from_list(fuels, \"Gasoline\")"
   ]
  },
  {
   "cell_type": "markdown",
   "id": "c33f1569",
   "metadata": {
    "slideshow": {
     "slide_type": "subslide"
    }
   },
   "source": [
    "# Suppressing errors"
   ]
  },
  {
   "cell_type": "code",
   "execution_count": null,
   "id": "3c00c48b",
   "metadata": {
    "slideshow": {
     "slide_type": "-"
    }
   },
   "outputs": [],
   "source": [
    "fuels = [\"Diesel\", \"Hydrogen\"]\n",
    "\n",
    "# (EAFP) Easier to ask forgiveness than permission:\n",
    "def remove_from_list(a_list, element):\n",
    "    try:\n",
    "        a_list.remove(element)\n",
    "    except ValueError:\n",
    "        pass\n",
    "\n",
    "remove_from_list(fuels, \"Gasoline\")\n",
    "print(fuels)"
   ]
  },
  {
   "cell_type": "markdown",
   "id": "13c15581",
   "metadata": {
    "slideshow": {
     "slide_type": "subslide"
    }
   },
   "source": [
    "# Suppressing errors"
   ]
  },
  {
   "cell_type": "code",
   "execution_count": null,
   "id": "fd6bf086",
   "metadata": {
    "slideshow": {
     "slide_type": "-"
    }
   },
   "outputs": [],
   "source": [
    "fuels = [\"Diesel\", \"Hydrogen\"]\n",
    "\n",
    "# Also EAFP but more concise:\n",
    "from contextlib import suppress\n",
    "def remove_from_list(a_list, element):\n",
    "    with suppress(ValueError):\n",
    "        a_list.remove(element)\n",
    "        \n",
    "remove_from_list(fuels, \"Gasoline\")\n",
    "print(fuels)"
   ]
  },
  {
   "cell_type": "markdown",
   "id": "4b15e449",
   "metadata": {
    "slideshow": {
     "slide_type": "subslide"
    }
   },
   "source": [
    "# Suppressing errors"
   ]
  },
  {
   "cell_type": "code",
   "execution_count": null,
   "id": "83d393df",
   "metadata": {
    "slideshow": {
     "slide_type": "-"
    }
   },
   "outputs": [],
   "source": [
    "fuels = [\"Diesel\", \"Hydrogen\"]\n",
    "\n",
    "def remove_from_list(a_list, element):\n",
    "    try:\n",
    "        a_list.remove(element)\n",
    "    except ValueError:\n",
    "        print(f\"{element} not in list\")\n",
    "\n",
    "remove_from_list(fuels, \"Gasoline\")\n",
    "print(fuels)"
   ]
  },
  {
   "cell_type": "markdown",
   "id": "59e4d424",
   "metadata": {
    "slideshow": {
     "slide_type": "notes"
    }
   },
   "source": [
    "Easier to Ask for Forgiveness than Permission\n",
    "\n",
    "As with any other mechanism that completely suppresses exceptions, this context manager should be used only to cover very specific errors where silently continuing with program execution is known to be the right thing to do."
   ]
  },
  {
   "cell_type": "code",
   "execution_count": null,
   "id": "94d70a5e",
   "metadata": {
    "slideshow": {
     "slide_type": "-"
    }
   },
   "outputs": [],
   "source": [
    "class CommandCentre:\n",
    "    def __init__(self) -> None:\n",
    "        self.signal = 100\n",
    "        \n",
    "    def generate_transmissions(self):\n",
    "        messages = [\n",
    "            \"Message 1\",\n",
    "            {\"number\": 5},\n",
    "            \"Message 2\",\n",
    "            5,\n",
    "            \"Message 3\",\n",
    "        ]\n",
    "        for message in messages:\n",
    "            yield message  "
   ]
  },
  {
   "cell_type": "markdown",
   "id": "e31b02f7",
   "metadata": {
    "slideshow": {
     "slide_type": "notes"
    }
   },
   "source": [
    "The command centre will broadcast messages\n",
    "\n",
    "Only the strings are interesting to us. The other will give Exceptions when we try to handle them\n",
    "\n",
    "What could be a clean way to handle these?"
   ]
  },
  {
   "cell_type": "code",
   "execution_count": null,
   "id": "2c824e18",
   "metadata": {
    "slideshow": {
     "slide_type": "subslide"
    }
   },
   "outputs": [],
   "source": [
    "def receive_transmissions():\n",
    "    centre = CommandCentre()\n",
    "    transmission_generator = centre.generate_transmissions()\n",
    "    while True:\n",
    "        try:\n",
    "            transmission = next(transmission_generator)\n",
    "            \n",
    "            try:\n",
    "                transmission = transmission.strip()\n",
    "            except AttributeError:\n",
    "                continue\n",
    "            except TypeError:\n",
    "                continue\n",
    "            else:\n",
    "                print(f\"Received: {transmission}\")\n",
    "                \n",
    "        except StopIteration:\n",
    "            print(\"End of transmission\")\n",
    "            break\n",
    "        \n",
    "receive_transmissions()"
   ]
  },
  {
   "cell_type": "code",
   "execution_count": null,
   "id": "406e09d0",
   "metadata": {
    "slideshow": {
     "slide_type": "subslide"
    }
   },
   "outputs": [],
   "source": [
    "from contextlib import suppress\n",
    "\n",
    "def receive_transmissions():\n",
    "    centre = CommandCentre()\n",
    "    transmission_generator = centre.generate_transmissions()    \n",
    "    while True:\n",
    "        try:\n",
    "            transmission = next(transmission_generator)\n",
    "            \n",
    "            with suppress((AttributeError, TypeError)):\n",
    "                \n",
    "                transmission = transmission.strip()\n",
    "                print(f\"Received: {transmission}\")\n",
    "                \n",
    "        except StopIteration:\n",
    "            print(\"End of transmission\")\n",
    "            break\n",
    "\n",
    "receive_transmissions()"
   ]
  },
  {
   "cell_type": "markdown",
   "id": "029e8bfe",
   "metadata": {
    "slideshow": {
     "slide_type": "notes"
    }
   },
   "source": [
    "With suppress uses a ContextManager to handle the Exceptions. The result is the same as the code in the previous slide but it is easier to read and more Pythonic.\n",
    "\n",
    "Return a context manager that suppresses any of the specified exceptions if they occur in the body of a with statement and then resumes execution with the first statement following the end of the with statement."
   ]
  },
  {
   "cell_type": "markdown",
   "id": "30efadba",
   "metadata": {
    "slideshow": {
     "slide_type": "slide"
    }
   },
   "source": [
    "# Async Exception Handling"
   ]
  },
  {
   "cell_type": "markdown",
   "id": "fded3d80",
   "metadata": {
    "slideshow": {
     "slide_type": "notes"
    }
   },
   "source": [
    "Async Python brings a whole load of other problems including multiple exceptions from different tasks\n",
    "\n",
    "Python 3.11 brought new features including TaskGroups and ExceptionGroups\n",
    "\n",
    "Both named Groups and released at the same time. They must be related.\n",
    "\n"
   ]
  },
  {
   "cell_type": "code",
   "execution_count": null,
   "id": "7af80d2c",
   "metadata": {},
   "outputs": [],
   "source": [
    "issubclass(ExceptionGroup, Exception)"
   ]
  },
  {
   "cell_type": "markdown",
   "id": "94817359",
   "metadata": {
    "slideshow": {
     "slide_type": "slide"
    }
   },
   "source": [
    "# Async Exception Handling"
   ]
  },
  {
   "cell_type": "code",
   "execution_count": null,
   "id": "e7256e55",
   "metadata": {
    "slideshow": {
     "slide_type": "-"
    }
   },
   "outputs": [],
   "source": [
    "class MotorError(Exception):\n",
    "    pass\n",
    "\n",
    "class IgnitionError(MotorError):\n",
    "    def __init__(self, motor) -> None:\n",
    "        self.motor = motor\n",
    "        message = f\"Motor {motor} failed to ignite\"\n",
    "        super().__init__(message)\n",
    "\n",
    "    def __str__(self):\n",
    "        return f\"Error in engine {self.motor}\""
   ]
  },
  {
   "cell_type": "markdown",
   "id": "9350f3b9",
   "metadata": {
    "slideshow": {
     "slide_type": "subslide"
    }
   },
   "source": [
    "# Async Exception Handling"
   ]
  },
  {
   "cell_type": "code",
   "execution_count": null,
   "id": "21d6db1a",
   "metadata": {
    "slideshow": {
     "slide_type": "-"
    }
   },
   "outputs": [],
   "source": [
    "import asyncio\n",
    "import random\n",
    "\n",
    "async def fire_engine(motor):\n",
    "    print(f\"Attempting to fire motor {motor}\")\n",
    "    engine_fires_chance = random.random()\n",
    "    \n",
    "    if engine_fires_chance < 0.3:\n",
    "        raise MotorError(f\"Something went wrong in motor {motor}\")\n",
    "        \n",
    "    elif engine_fires_chance >= 0.8:\n",
    "        print(f\"Motor {motor} failed to fire\")\n",
    "        raise IgnitionError(motor)\n",
    "        \n",
    "    print(f\"Motor {motor} fired up!\")"
   ]
  },
  {
   "cell_type": "code",
   "execution_count": null,
   "id": "e1518bb1",
   "metadata": {},
   "outputs": [],
   "source": [
    "async def apply_throttle(motor):\n",
    "    try:\n",
    "        task1 = asyncio.create_task(fire_engine(motor))\n",
    "        await asyncio.sleep(1)\n",
    "        if task1.done():\n",
    "            ex = task1.exception()\n",
    "            if ex:\n",
    "                print(ex)\n",
    "                raise ex\n",
    "    \n",
    "    except IgnitionError as e:\n",
    "        print(e)\n",
    "        \n",
    "    except MotorError as e:\n",
    "        print(e)\n",
    "        \n",
    "await apply_throttle(1)\n",
    "await apply_throttle(2)\n",
    "await apply_throttle(3)\n",
    "await apply_throttle(4)"
   ]
  },
  {
   "cell_type": "code",
   "execution_count": null,
   "id": "a3218071",
   "metadata": {},
   "outputs": [],
   "source": [
    "async def apply_throttle(motor):\n",
    "#     try:\n",
    "        results = await asyncio.gather(fire_engine(1), fire_engine(2), fire_engine(3), fire_engine(4))\n",
    "        if task1.done():\n",
    "            ex = task1.exception()\n",
    "            if ex:\n",
    "                print(ex)\n",
    "                raise ex"
   ]
  },
  {
   "cell_type": "code",
   "execution_count": null,
   "id": "4ca732c4",
   "metadata": {
    "slideshow": {
     "slide_type": "subslide"
    }
   },
   "outputs": [],
   "source": [
    "async def apply_throttle(motors):\n",
    "    try:\n",
    "        async with asyncio.TaskGroup() as tg:\n",
    "            \n",
    "            for x in range(motors):\n",
    "                tg.create_task(\n",
    "                    fire_engine(x)\n",
    "                )\n",
    "\n",
    "    except ExceptionGroup as e:\n",
    "        print(e)\n",
    "        print(e.exceptions)\n",
    "#     except* IgnitionError as e:\n",
    "#         print(f\"Handling IgnitionErrors: {e.exceptions}\")\n",
    "#         print(e.exceptions)\n",
    "        \n",
    "#     except* MotorError as e:\n",
    "#         print(f\"Handling MotorErrors: {e.exceptions}\")\n",
    "#         print(e.exceptions)"
   ]
  },
  {
   "cell_type": "code",
   "execution_count": null,
   "id": "c1c41ae4",
   "metadata": {
    "slideshow": {
     "slide_type": "subslide"
    }
   },
   "outputs": [],
   "source": [
    "engine = Engine(motors=4)\n",
    "await apply_throttle(4) "
   ]
  },
  {
   "cell_type": "markdown",
   "id": "f0c56c46",
   "metadata": {
    "slideshow": {
     "slide_type": "slide"
    }
   },
   "source": [
    "## So can we finally launch the Rocket?"
   ]
  },
  {
   "cell_type": "code",
   "execution_count": null,
   "id": "59c9771d",
   "metadata": {
    "slideshow": {
     "slide_type": "subslide"
    }
   },
   "outputs": [],
   "source": [
    "rocket.launch()"
   ]
  }
 ],
 "metadata": {
  "celltoolbar": "Slideshow",
  "kernelspec": {
   "display_name": "Python 3 (ipykernel)",
   "language": "python",
   "name": "python3"
  },
  "language_info": {
   "codemirror_mode": {
    "name": "ipython",
    "version": 3
   },
   "file_extension": ".py",
   "mimetype": "text/x-python",
   "name": "python",
   "nbconvert_exporter": "python",
   "pygments_lexer": "ipython3",
   "version": "3.11.3"
  },
  "rise": {
   "footer": "<h2  style='text-align: right;'>Error handling is boring but this is the Exception - Vito Minheere 03-05-2023 - Codebeez</h2>",
   "scroll": true,
   "theme": "simple"
  }
 },
 "nbformat": 4,
 "nbformat_minor": 5
}
