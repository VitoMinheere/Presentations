{
 "cells": [
  {
   "cell_type": "markdown",
   "id": "dae4d4ac",
   "metadata": {
    "slideshow": {
     "slide_type": "slide"
    }
   },
   "source": [
    "## Error handling is boring but this is the Exception\n",
    "\n",
    "### Vito Minheere"
   ]
  },
  {
   "cell_type": "markdown",
   "id": "efb9bc8d",
   "metadata": {
    "slideshow": {
     "slide_type": "slide"
    }
   },
   "source": [
    "# What is an Exception?"
   ]
  },
  {
   "cell_type": "code",
   "execution_count": 43,
   "id": "42f60d60",
   "metadata": {
    "slideshow": {
     "slide_type": "-"
    }
   },
   "outputs": [
    {
     "ename": "TypeError",
     "evalue": "exceptions must derive from BaseException",
     "output_type": "error",
     "traceback": [
      "\u001b[0;31m---------------------------------------------------------------------------\u001b[0m",
      "\u001b[0;31mTypeError\u001b[0m                                 Traceback (most recent call last)",
      "Cell \u001b[0;32mIn[43], line 1\u001b[0m\n\u001b[0;32m----> 1\u001b[0m \u001b[38;5;28;01mraise\u001b[39;00m \u001b[38;5;124m\"\u001b[39m\u001b[38;5;124mException\u001b[39m\u001b[38;5;124m\"\u001b[39m \n",
      "\u001b[0;31mTypeError\u001b[0m: exceptions must derive from BaseException"
     ]
    }
   ],
   "source": [
    "raise \"Exception\" "
   ]
  },
  {
   "cell_type": "markdown",
   "id": "803b60f5",
   "metadata": {
    "slideshow": {
     "slide_type": "notes"
    }
   },
   "source": [
    "An Exception is an object as many other things in Python. Exception extends the BaseException.\n",
    "\n",
    "Extend it to create other Exceptions with the same attributes\n",
    "\n",
    "Internal Python Exceptions should use BaseException, all others should use Exception\n",
    "\n"
   ]
  },
  {
   "cell_type": "markdown",
   "id": "3f559abf",
   "metadata": {
    "slideshow": {
     "slide_type": "subslide"
    }
   },
   "source": [
    "# Exception hierarchy"
   ]
  },
  {
   "cell_type": "markdown",
   "id": "d2f5a68b",
   "metadata": {
    "slideshow": {
     "slide_type": "-"
    }
   },
   "source": [
    "BaseException\n",
    " ├── GeneratorExit\n",
    " ├── KeyboardInterrupt\n",
    " ├── SystemExit\n",
    " └── Exception\n",
    "      ├── ArithmeticError\n",
    "      │    ├── FloatingPointError\n",
    "      │    ├── OverflowError\n",
    "      │    └── ZeroDivisionError\n",
    "      ├── AttributeError\n",
    "      ├── EOFError\n",
    "      ├── LookupError\n",
    "      │    ├── IndexError\n",
    "      │    └── KeyError"
   ]
  },
  {
   "cell_type": "markdown",
   "id": "b1b349c7",
   "metadata": {
    "slideshow": {
     "slide_type": "notes"
    }
   },
   "source": [
    "Built-in errors also have their hierarchy. \n",
    "\n",
    "Exception hierarchy can serve an important purpose: \n",
    "\n",
    "the user does not have to know all the specific exceptions "
   ]
  },
  {
   "cell_type": "markdown",
   "id": "287ef620",
   "metadata": {
    "slideshow": {
     "slide_type": "slide"
    }
   },
   "source": [
    "## Handling Exceptions: Raising an Exception"
   ]
  },
  {
   "cell_type": "code",
   "execution_count": 44,
   "id": "dc7097a1",
   "metadata": {
    "slideshow": {
     "slide_type": "-"
    }
   },
   "outputs": [
    {
     "ename": "ZeroDivisionError",
     "evalue": "division by zero",
     "output_type": "error",
     "traceback": [
      "\u001b[0;31m---------------------------------------------------------------------------\u001b[0m",
      "\u001b[0;31mZeroDivisionError\u001b[0m                         Traceback (most recent call last)",
      "Cell \u001b[0;32mIn[44], line 1\u001b[0m\n\u001b[0;32m----> 1\u001b[0m \u001b[38;5;241;43m1\u001b[39;49m\u001b[43m \u001b[49m\u001b[38;5;241;43m/\u001b[39;49m\u001b[43m \u001b[49m\u001b[38;5;241;43m0\u001b[39;49m\n",
      "\u001b[0;31mZeroDivisionError\u001b[0m: division by zero"
     ]
    }
   ],
   "source": [
    "1 / 0"
   ]
  },
  {
   "cell_type": "markdown",
   "id": "3a57779f",
   "metadata": {
    "slideshow": {
     "slide_type": "subslide"
    }
   },
   "source": [
    "## Handling Exceptions: Using except"
   ]
  },
  {
   "cell_type": "code",
   "execution_count": 45,
   "id": "1a5c86ed",
   "metadata": {
    "slideshow": {
     "slide_type": "-"
    }
   },
   "outputs": [
    {
     "name": "stdout",
     "output_type": "stream",
     "text": [
      "Zero Division raised\n"
     ]
    }
   ],
   "source": [
    "try:\n",
    "    1 / 0\n",
    "    \n",
    "except ZeroDivisionError as e:\n",
    "    print(\"Zero Division raised\")"
   ]
  },
  {
   "cell_type": "markdown",
   "id": "9cc82dc7",
   "metadata": {
    "slideshow": {
     "slide_type": "subslide"
    }
   },
   "source": [
    "## Handling Exceptions: Order of handling"
   ]
  },
  {
   "cell_type": "code",
   "execution_count": 46,
   "id": "f1f11fe4",
   "metadata": {
    "slideshow": {
     "slide_type": "-"
    }
   },
   "outputs": [
    {
     "name": "stdout",
     "output_type": "stream",
     "text": [
      "Arithmetic Error raised\n"
     ]
    },
    {
     "ename": "ZeroDivisionError",
     "evalue": "division by zero",
     "output_type": "error",
     "traceback": [
      "\u001b[0;31m---------------------------------------------------------------------------\u001b[0m",
      "\u001b[0;31mZeroDivisionError\u001b[0m                         Traceback (most recent call last)",
      "Cell \u001b[0;32mIn[46], line 6\u001b[0m\n\u001b[1;32m      4\u001b[0m \u001b[38;5;28;01mexcept\u001b[39;00m \u001b[38;5;167;01mArithmeticError\u001b[39;00m \u001b[38;5;28;01mas\u001b[39;00m e:\n\u001b[1;32m      5\u001b[0m     \u001b[38;5;28mprint\u001b[39m(\u001b[38;5;124m\"\u001b[39m\u001b[38;5;124mArithmetic Error raised\u001b[39m\u001b[38;5;124m\"\u001b[39m)\n\u001b[0;32m----> 6\u001b[0m     \u001b[38;5;28;01mraise\u001b[39;00m e\n\u001b[1;32m      8\u001b[0m \u001b[38;5;28;01mexcept\u001b[39;00m \u001b[38;5;167;01mZeroDivisionError\u001b[39;00m \u001b[38;5;28;01mas\u001b[39;00m e:\n\u001b[1;32m      9\u001b[0m     \u001b[38;5;28mprint\u001b[39m(\u001b[38;5;124m\"\u001b[39m\u001b[38;5;124mZero Division raised\u001b[39m\u001b[38;5;124m\"\u001b[39m)\n",
      "Cell \u001b[0;32mIn[46], line 2\u001b[0m\n\u001b[1;32m      1\u001b[0m \u001b[38;5;28;01mtry\u001b[39;00m:\n\u001b[0;32m----> 2\u001b[0m     \u001b[38;5;241;43m1\u001b[39;49m\u001b[43m \u001b[49m\u001b[38;5;241;43m/\u001b[39;49m\u001b[43m \u001b[49m\u001b[38;5;241;43m0\u001b[39;49m\n\u001b[1;32m      4\u001b[0m \u001b[38;5;28;01mexcept\u001b[39;00m \u001b[38;5;167;01mArithmeticError\u001b[39;00m \u001b[38;5;28;01mas\u001b[39;00m e:\n\u001b[1;32m      5\u001b[0m     \u001b[38;5;28mprint\u001b[39m(\u001b[38;5;124m\"\u001b[39m\u001b[38;5;124mArithmetic Error raised\u001b[39m\u001b[38;5;124m\"\u001b[39m)\n",
      "\u001b[0;31mZeroDivisionError\u001b[0m: division by zero"
     ]
    }
   ],
   "source": [
    "try:\n",
    "    1 / 0\n",
    "    \n",
    "except ArithmeticError as e:\n",
    "    print(\"Arithmetic Error raised\")\n",
    "    raise e\n",
    "    \n",
    "except ZeroDivisionError as e:\n",
    "    print(\"Zero Division raised\")\n",
    "    raise e"
   ]
  },
  {
   "cell_type": "markdown",
   "id": "24f7b206",
   "metadata": {
    "slideshow": {
     "slide_type": "notes"
    }
   },
   "source": [
    "Arithmetic error is higher on the hierarchy than ZeroDivisionError\n",
    "\n",
    "At most one except clause will trigger\n",
    "\n",
    "The first except clause that matches will trigger\n"
   ]
  },
  {
   "cell_type": "markdown",
   "id": "318ad8ee",
   "metadata": {
    "slideshow": {
     "slide_type": "subslide"
    }
   },
   "source": [
    "## Handling Exceptions: Order of handling"
   ]
  },
  {
   "cell_type": "code",
   "execution_count": 47,
   "id": "8971adb0",
   "metadata": {
    "slideshow": {
     "slide_type": "-"
    }
   },
   "outputs": [
    {
     "name": "stdout",
     "output_type": "stream",
     "text": [
      "Exception raised\n"
     ]
    }
   ],
   "source": [
    "try:\n",
    "    1 / 0\n",
    "\n",
    "except Exception as e:\n",
    "    print(\"Exception raised\")\n",
    "    \n",
    "except ArithmeticError as e:\n",
    "    print(\"Arithmetic Error raised\")\n",
    "    raise e\n",
    "    \n",
    "except ZeroDivisionError as e:\n",
    "    print(\"Zero Division raised\")\n",
    "    raise e       \n"
   ]
  },
  {
   "cell_type": "markdown",
   "id": "3c6cdb9e",
   "metadata": {
    "slideshow": {
     "slide_type": "notes"
    }
   },
   "source": [
    "except Exception is even higher and will be executed first\n"
   ]
  },
  {
   "cell_type": "markdown",
   "id": "5a3e25e6",
   "metadata": {
    "slideshow": {
     "slide_type": "subslide"
    }
   },
   "source": [
    "## Handling Exceptions: Dangerous handling"
   ]
  },
  {
   "cell_type": "code",
   "execution_count": 48,
   "id": "2b4cf4c4",
   "metadata": {
    "slideshow": {
     "slide_type": "-"
    }
   },
   "outputs": [],
   "source": [
    "try:\n",
    "    thisssss_function_does_not_exist()\n",
    "    \n",
    "except Exception as e:\n",
    "    pass\n",
    "    \n",
    "except ArithmeticError as e:\n",
    "    print(\"Arithmetic Error raised\")\n",
    "    raise e\n",
    "    \n",
    "except ZeroDivisionError as e:\n",
    "    print(\"Zero Division raised\")\n",
    "    raise e"
   ]
  },
  {
   "cell_type": "markdown",
   "id": "3762b05e",
   "metadata": {
    "slideshow": {
     "slide_type": "notes"
    }
   },
   "source": [
    "\n",
    "Be aware that Exception will also catch all other Exceptions derived from it\n",
    "\n",
    "Python is an interpreted language.\n",
    "Python uses Exceptions for both reporting errors while running the code and interpreting code. \n",
    "If you catch all Exceptions it will also catch NameErrors during interpreting"
   ]
  },
  {
   "cell_type": "markdown",
   "id": "be773e45",
   "metadata": {
    "slideshow": {
     "slide_type": "subslide"
    }
   },
   "source": [
    "## Handling Exceptions: Order is important"
   ]
  },
  {
   "cell_type": "code",
   "execution_count": 49,
   "id": "9ec45058",
   "metadata": {
    "slideshow": {
     "slide_type": "-"
    }
   },
   "outputs": [
    {
     "ename": "Exception",
     "evalue": "general exceptions not caught by specific handling",
     "output_type": "error",
     "traceback": [
      "\u001b[0;31m---------------------------------------------------------------------------\u001b[0m",
      "\u001b[0;31mException\u001b[0m                                 Traceback (most recent call last)",
      "Cell \u001b[0;32mIn[49], line 2\u001b[0m\n\u001b[1;32m      1\u001b[0m \u001b[38;5;28;01mtry\u001b[39;00m:\n\u001b[0;32m----> 2\u001b[0m     \u001b[38;5;28;01mraise\u001b[39;00m \u001b[38;5;167;01mException\u001b[39;00m(\u001b[38;5;124m'\u001b[39m\u001b[38;5;124mgeneral exceptions not caught by specific handling\u001b[39m\u001b[38;5;124m'\u001b[39m)\n\u001b[1;32m      4\u001b[0m \u001b[38;5;28;01mexcept\u001b[39;00m \u001b[38;5;167;01mValueError\u001b[39;00m \u001b[38;5;28;01mas\u001b[39;00m e:\n\u001b[1;32m      5\u001b[0m     \u001b[38;5;28mprint\u001b[39m(\u001b[38;5;124m'\u001b[39m\u001b[38;5;124mwe will not catch exception: Exception\u001b[39m\u001b[38;5;124m'\u001b[39m)\n",
      "\u001b[0;31mException\u001b[0m: general exceptions not caught by specific handling"
     ]
    }
   ],
   "source": [
    "try:\n",
    "    raise Exception('general exceptions not caught by specific handling')\n",
    "    \n",
    "except ValueError as e:\n",
    "    print('we will not catch exception: Exception')\n",
    "\n"
   ]
  },
  {
   "cell_type": "markdown",
   "id": "6aced965",
   "metadata": {
    "slideshow": {
     "slide_type": "notes"
    }
   },
   "source": [
    "Hierarchy only travels up not down"
   ]
  },
  {
   "cell_type": "markdown",
   "id": "cd44bdd3",
   "metadata": {
    "slideshow": {
     "slide_type": "subslide"
    }
   },
   "source": [
    "## Handling Exceptions: Pythonic notation"
   ]
  },
  {
   "cell_type": "code",
   "execution_count": 50,
   "id": "2913b6b6",
   "metadata": {
    "slideshow": {
     "slide_type": "-"
    }
   },
   "outputs": [
    {
     "name": "stdout",
     "output_type": "stream",
     "text": [
      "Error raised\n"
     ]
    }
   ],
   "source": [
    "try:\n",
    "    1 / 0\n",
    "\n",
    "except ArithmeticError as e:\n",
    "    print(\"Error raised\")\n",
    "    \n",
    "except ZeroDivisionError as e:\n",
    "    print(\"Error raised\")\n"
   ]
  },
  {
   "cell_type": "code",
   "execution_count": 51,
   "id": "7caabc19",
   "metadata": {
    "slideshow": {
     "slide_type": "fragment"
    }
   },
   "outputs": [
    {
     "name": "stdout",
     "output_type": "stream",
     "text": [
      "Error raised\n"
     ]
    }
   ],
   "source": [
    "try:\n",
    "    1 / 0\n",
    "\n",
    "except (ArithmeticError, ZeroDivisionError) as e:\n",
    "    print(\"Error raised\")\n",
    "    "
   ]
  },
  {
   "cell_type": "markdown",
   "id": "6c5dee73",
   "metadata": {
    "slideshow": {
     "slide_type": "slide"
    }
   },
   "source": [
    "# NAASA, NASA As A Service\n",
    "\n",
    "\n",
    "#### Launch a rocket via a Python module. \n",
    "\n",
    "### No guarantees, only Exceptions"
   ]
  },
  {
   "cell_type": "markdown",
   "id": "527b7fa5",
   "metadata": {
    "slideshow": {
     "slide_type": "notes"
    }
   },
   "source": [
    "It is rocket science so a lot of things can go wrong. \n",
    "\n",
    "Before the launch you could exit your program and call it off if critical errors arise \n",
    "\n",
    "but you can’t just reset the rocket when it is in mid flight. \n",
    "\n",
    "In this case we are both the creator of the module and also the user.\n",
    "We will use a bit of defensive programming to make sure edge cases will be handled and the rocket will not crash. "
   ]
  },
  {
   "cell_type": "markdown",
   "id": "68ceda95",
   "metadata": {
    "slideshow": {
     "slide_type": "subslide"
    }
   },
   "source": [
    "## The Rocket"
   ]
  },
  {
   "cell_type": "code",
   "execution_count": 52,
   "id": "aeeb411d",
   "metadata": {
    "slideshow": {
     "slide_type": "-"
    }
   },
   "outputs": [
    {
     "name": "stdout",
     "output_type": "stream",
     "text": [
      "Rocket Artemis 1 has 4 engines and is at an altitude of 0 meters\n"
     ]
    }
   ],
   "source": [
    "from classes.fuel_tank import FuelTank\n",
    "from classes.command_centre import CommandCentre\n",
    "from classes.engine import Engine\n",
    "\n",
    "class Rocket:\n",
    "    def __init__(self, name):\n",
    "        self.name = name\n",
    "        self.altitude = 0\n",
    "        self.crew = []\n",
    "        self.fuel_tank = FuelTank(\"Hydrogen\", 100)\n",
    "        self.command_centre = CommandCentre()\n",
    "        self.engine = Engine(units=4)\n",
    "        self.startup_completed = False\n",
    "        \n",
    "    def __str__(self):\n",
    "        return f\"Rocket {self.name} has {self.engine.units} engines and is at an altitude of {self.altitude} meters\"\n",
    "         \n",
    "rocket = Rocket(\"Artemis 1\")\n",
    "print(rocket)"
   ]
  },
  {
   "cell_type": "code",
   "execution_count": null,
   "id": "b8ada197",
   "metadata": {
    "slideshow": {
     "slide_type": "fragment"
    }
   },
   "outputs": [],
   "source": [
    "class FuelTank:\n",
    "    def __init__(self, fuel_type: str, max_volume: int) -> None:\n",
    "        self.fuel_type = fuel_type\n",
    "        self.volume = 0\n",
    "        self.max_volume = max_volume"
   ]
  },
  {
   "cell_type": "markdown",
   "id": "e2d5d373",
   "metadata": {
    "slideshow": {
     "slide_type": "slide"
    }
   },
   "source": [
    "## Custom Exceptions"
   ]
  },
  {
   "cell_type": "code",
   "execution_count": 53,
   "id": "c973c975",
   "metadata": {
    "slideshow": {
     "slide_type": "fragment"
    }
   },
   "outputs": [
    {
     "ename": "FuelTankError",
     "evalue": "Something is wrong with the fuel tank",
     "output_type": "error",
     "traceback": [
      "\u001b[0;31m---------------------------------------------------------------------------\u001b[0m",
      "\u001b[0;31mFuelTankError\u001b[0m                             Traceback (most recent call last)",
      "Cell \u001b[0;32mIn[53], line 4\u001b[0m\n\u001b[1;32m      1\u001b[0m \u001b[38;5;28;01mclass\u001b[39;00m \u001b[38;5;21;01mFuelTankError\u001b[39;00m(\u001b[38;5;167;01mException\u001b[39;00m):\n\u001b[1;32m      2\u001b[0m        \u001b[38;5;28;01mpass\u001b[39;00m\n\u001b[0;32m----> 4\u001b[0m \u001b[38;5;28;01mraise\u001b[39;00m FuelTankError(\u001b[38;5;124m\"\u001b[39m\u001b[38;5;124mSomething is wrong with the fuel tank\u001b[39m\u001b[38;5;124m\"\u001b[39m)\n",
      "\u001b[0;31mFuelTankError\u001b[0m: Something is wrong with the fuel tank"
     ]
    }
   ],
   "source": [
    " class FuelTankError(Exception):\n",
    "        pass\n",
    "\n",
    "raise FuelTankError(\"Something is wrong with the fuel tank\")"
   ]
  },
  {
   "cell_type": "markdown",
   "id": "9b3a00ed",
   "metadata": {
    "slideshow": {
     "slide_type": "notes"
    }
   },
   "source": [
    "To create a custom Exception you can create a class and extend Exception\n",
    "\n",
    "Usually you can keep the base empty so that child Exception can set their own messages without them being overwritten by the base"
   ]
  },
  {
   "cell_type": "markdown",
   "id": "9a42dff4",
   "metadata": {
    "slideshow": {
     "slide_type": "subslide"
    }
   },
   "source": [
    "## Custom Exceptions: Child Exceptions"
   ]
  },
  {
   "cell_type": "code",
   "execution_count": 54,
   "id": "155bfe20",
   "metadata": {
    "slideshow": {
     "slide_type": "-"
    }
   },
   "outputs": [
    {
     "ename": "FuelLevelError",
     "evalue": "Max amount of fuel to add is 3 liters",
     "output_type": "error",
     "traceback": [
      "\u001b[0;31m---------------------------------------------------------------------------\u001b[0m",
      "\u001b[0;31mFuelLevelError\u001b[0m                            Traceback (most recent call last)",
      "Cell \u001b[0;32mIn[54], line 16\u001b[0m\n\u001b[1;32m     12\u001b[0m         \u001b[38;5;28mself\u001b[39m\u001b[38;5;241m.\u001b[39mvalue \u001b[38;5;241m=\u001b[39m amount_left_to_fill\n\u001b[1;32m     13\u001b[0m         \u001b[38;5;28msuper\u001b[39m()\u001b[38;5;241m.\u001b[39m\u001b[38;5;21m__init__\u001b[39m(message)\n\u001b[0;32m---> 16\u001b[0m \u001b[38;5;28;01mraise\u001b[39;00m FuelLevelError(\u001b[38;5;241m10\u001b[39m, \u001b[38;5;241m7\u001b[39m)\n",
      "\u001b[0;31mFuelLevelError\u001b[0m: Max amount of fuel to add is 3 liters"
     ]
    }
   ],
   "source": [
    "class FuelTypeError(FuelTankError):\n",
    "    \n",
    "    def __init__(self, fuel_type, allowed_fuel):\n",
    "        message = f\"Invalid fuel type: {fuel_type}. Only '{allowed_fuel}' fuel is allowed.\"\n",
    "        super().__init__(message)\n",
    "\n",
    "class FuelLevelError(FuelTankError):  \n",
    "    \n",
    "    def __init__(self, max_volume, volume):\n",
    "        amount_left_to_fill = max_volume - volume\n",
    "        message = f\"Max amount of fuel to add is {str(amount_left_to_fill)} liters\" \n",
    "        self.value = amount_left_to_fill\n",
    "        super().__init__(message)\n",
    "\n",
    "\n",
    "raise FuelLevelError(10, 7)"
   ]
  },
  {
   "cell_type": "markdown",
   "id": "09bef1a6",
   "metadata": {
    "slideshow": {
     "slide_type": "subslide"
    }
   },
   "source": [
    "## Custom Exceptions: Adding them to code"
   ]
  },
  {
   "cell_type": "code",
   "execution_count": 55,
   "id": "03198916",
   "metadata": {
    "slideshow": {
     "slide_type": "-"
    }
   },
   "outputs": [],
   "source": [
    "def refuel(self, fuel_type, amount):\n",
    "    if fuel_type != self.fuel_type:\n",
    "        raise FuelTypeError(fuel_type)\n",
    "        \n",
    "    elif (self.volume + amount) > self.max_volume:\n",
    "        raise FuelLevelError(self.max_volume, self.volume)\n",
    "        \n",
    "    else:\n",
    "        self.volume += amount\n",
    "        print(f\"Fuel tank refueled. Fuel level is now {self.volume} liter.\")"
   ]
  },
  {
   "cell_type": "markdown",
   "id": "1d250a98",
   "metadata": {
    "slideshow": {
     "slide_type": "notes"
    }
   },
   "source": [
    "Build a hierarchy in the custom exceptions. \n",
    "\n",
    "FuelException will be caught before FuelTankException when both are in the except clause.\n",
    "\n"
   ]
  },
  {
   "cell_type": "markdown",
   "id": "1b24ab3f",
   "metadata": {
    "slideshow": {
     "slide_type": "subslide"
    }
   },
   "source": [
    "## Custom Exceptions: Handling them"
   ]
  },
  {
   "cell_type": "code",
   "execution_count": 60,
   "id": "c85f7af4",
   "metadata": {
    "slideshow": {
     "slide_type": "-"
    }
   },
   "outputs": [
    {
     "name": "stdout",
     "output_type": "stream",
     "text": [
      "FuelTypeError\n"
     ]
    },
    {
     "ename": "FuelTypeError",
     "evalue": "Invalid fuel type: Diesel. Only 'Hydrogen' fuel is allowed.",
     "output_type": "error",
     "traceback": [
      "\u001b[0;31m---------------------------------------------------------------------------\u001b[0m",
      "\u001b[0;31mFuelTypeError\u001b[0m                             Traceback (most recent call last)",
      "Cell \u001b[0;32mIn[60], line 12\u001b[0m\n\u001b[1;32m     10\u001b[0m \u001b[38;5;28;01mexcept\u001b[39;00m FuelTypeError \u001b[38;5;28;01mas\u001b[39;00m e:\n\u001b[1;32m     11\u001b[0m     \u001b[38;5;28mprint\u001b[39m(\u001b[38;5;124m\"\u001b[39m\u001b[38;5;124mFuelTypeError\u001b[39m\u001b[38;5;124m\"\u001b[39m)\n\u001b[0;32m---> 12\u001b[0m     \u001b[38;5;28;01mraise\u001b[39;00m e\n",
      "Cell \u001b[0;32mIn[60], line 4\u001b[0m\n\u001b[1;32m      1\u001b[0m \u001b[38;5;28;01mfrom\u001b[39;00m \u001b[38;5;21;01mclasses\u001b[39;00m\u001b[38;5;21;01m.\u001b[39;00m\u001b[38;5;21;01mfuel_tank\u001b[39;00m \u001b[38;5;28;01mimport\u001b[39;00m FuelTankError, FuelTypeError, FuelLevelError\n\u001b[1;32m      3\u001b[0m \u001b[38;5;28;01mtry\u001b[39;00m:\n\u001b[0;32m----> 4\u001b[0m     \u001b[43mrocket\u001b[49m\u001b[38;5;241;43m.\u001b[39;49m\u001b[43mfuel_tank\u001b[49m\u001b[38;5;241;43m.\u001b[39;49m\u001b[43mrefuel\u001b[49m\u001b[43m(\u001b[49m\u001b[38;5;124;43m\"\u001b[39;49m\u001b[38;5;124;43mDiesel\u001b[39;49m\u001b[38;5;124;43m\"\u001b[39;49m\u001b[43m,\u001b[49m\u001b[43m \u001b[49m\u001b[38;5;241;43m100\u001b[39;49m\u001b[43m)\u001b[49m\n\u001b[1;32m      6\u001b[0m \u001b[38;5;28;01mexcept\u001b[39;00m FuelLevelError \u001b[38;5;28;01mas\u001b[39;00m e:\n\u001b[1;32m      7\u001b[0m     \u001b[38;5;28mprint\u001b[39m(\u001b[38;5;124m\"\u001b[39m\u001b[38;5;124mFuelLevelError\u001b[39m\u001b[38;5;124m\"\u001b[39m)\n",
      "File \u001b[0;32m~/Developer/Presentations/pyton_exception_handling/code/classes/fuel_tank.py:38\u001b[0m, in \u001b[0;36mFuelTank.refuel\u001b[0;34m(self, fuel_type, amount)\u001b[0m\n\u001b[1;32m     32\u001b[0m \u001b[38;5;250m\u001b[39m\u001b[38;5;124;03m\"\"\"\u001b[39;00m\n\u001b[1;32m     33\u001b[0m \u001b[38;5;124;03mRaises:\u001b[39;00m\n\u001b[1;32m     34\u001b[0m \u001b[38;5;124;03m    FuelTypeException: If fuel_type is not the correct fuel for the rocket\u001b[39;00m\n\u001b[1;32m     35\u001b[0m \u001b[38;5;124;03m    FuelLevelException: If the amount of fuel to add would overflow the tank\u001b[39;00m\n\u001b[1;32m     36\u001b[0m \u001b[38;5;124;03m\"\"\"\u001b[39;00m        \n\u001b[1;32m     37\u001b[0m \u001b[38;5;28;01mif\u001b[39;00m fuel_type \u001b[38;5;241m!=\u001b[39m \u001b[38;5;28mself\u001b[39m\u001b[38;5;241m.\u001b[39mfuel_type:\n\u001b[0;32m---> 38\u001b[0m     \u001b[38;5;28;01mraise\u001b[39;00m FuelTypeError(fuel_type)\n\u001b[1;32m     40\u001b[0m \u001b[38;5;28;01melif\u001b[39;00m (\u001b[38;5;28mself\u001b[39m\u001b[38;5;241m.\u001b[39mvolume \u001b[38;5;241m+\u001b[39m amount) \u001b[38;5;241m>\u001b[39m \u001b[38;5;28mself\u001b[39m\u001b[38;5;241m.\u001b[39mmax_volume:\n\u001b[1;32m     41\u001b[0m     \u001b[38;5;28;01mraise\u001b[39;00m FuelLevelError(\u001b[38;5;28mself\u001b[39m\u001b[38;5;241m.\u001b[39mmax_volume, \u001b[38;5;28mself\u001b[39m\u001b[38;5;241m.\u001b[39mvolume)\n",
      "\u001b[0;31mFuelTypeError\u001b[0m: Invalid fuel type: Diesel. Only 'Hydrogen' fuel is allowed."
     ]
    }
   ],
   "source": [
    "from classes.fuel_tank import FuelTankError, FuelTypeError, FuelLevelError\n",
    "\n",
    "try:\n",
    "    rocket.fuel_tank.refuel(\"Diesel\", 100)\n",
    "\n",
    "except FuelLevelError as e:\n",
    "    print(\"FuelLevelError\")\n",
    "    raise e\n",
    "    \n",
    "except FuelTypeError as e:\n",
    "    print(\"FuelTypeError\")\n",
    "    raise e"
   ]
  },
  {
   "cell_type": "markdown",
   "id": "b0159d9b",
   "metadata": {
    "slideshow": {
     "slide_type": "notes"
    }
   },
   "source": [
    "Due to the hierarchy the base FuelTankException can be caught first. \n",
    "\n",
    "When you reraise the Exception it shows the FuelTypeException.\n",
    "\n",
    "End users of our module can put it as the last except block to catch any errors they might have missed."
   ]
  },
  {
   "cell_type": "markdown",
   "id": "f05db82c",
   "metadata": {
    "slideshow": {
     "slide_type": "subslide"
    }
   },
   "source": [
    "## Custom Exceptions: Order is still important"
   ]
  },
  {
   "cell_type": "code",
   "execution_count": 61,
   "id": "0039437a",
   "metadata": {
    "slideshow": {
     "slide_type": "-"
    }
   },
   "outputs": [
    {
     "name": "stdout",
     "output_type": "stream",
     "text": [
      "FuelTankError\n"
     ]
    },
    {
     "ename": "FuelTypeError",
     "evalue": "Invalid fuel type: Diesel. Only 'Hydrogen' fuel is allowed.",
     "output_type": "error",
     "traceback": [
      "\u001b[0;31m---------------------------------------------------------------------------\u001b[0m",
      "\u001b[0;31mFuelTypeError\u001b[0m                             Traceback (most recent call last)",
      "Cell \u001b[0;32mIn[61], line 10\u001b[0m\n\u001b[1;32m      8\u001b[0m \u001b[38;5;28;01mexcept\u001b[39;00m FuelTankError \u001b[38;5;28;01mas\u001b[39;00m e:\n\u001b[1;32m      9\u001b[0m     \u001b[38;5;28mprint\u001b[39m(\u001b[38;5;124m\"\u001b[39m\u001b[38;5;124mFuelTankError\u001b[39m\u001b[38;5;124m\"\u001b[39m)\n\u001b[0;32m---> 10\u001b[0m     \u001b[38;5;28;01mraise\u001b[39;00m e\n",
      "Cell \u001b[0;32mIn[61], line 2\u001b[0m\n\u001b[1;32m      1\u001b[0m \u001b[38;5;28;01mtry\u001b[39;00m:\n\u001b[0;32m----> 2\u001b[0m     \u001b[43mrocket\u001b[49m\u001b[38;5;241;43m.\u001b[39;49m\u001b[43mfuel_tank\u001b[49m\u001b[38;5;241;43m.\u001b[39;49m\u001b[43mrefuel\u001b[49m\u001b[43m(\u001b[49m\u001b[38;5;124;43m\"\u001b[39;49m\u001b[38;5;124;43mDiesel\u001b[39;49m\u001b[38;5;124;43m\"\u001b[39;49m\u001b[43m,\u001b[49m\u001b[43m \u001b[49m\u001b[38;5;241;43m100\u001b[39;49m\u001b[43m)\u001b[49m\n\u001b[1;32m      4\u001b[0m \u001b[38;5;28;01mexcept\u001b[39;00m FuelLevelError \u001b[38;5;28;01mas\u001b[39;00m e:\n\u001b[1;32m      5\u001b[0m     \u001b[38;5;28mprint\u001b[39m(\u001b[38;5;124m\"\u001b[39m\u001b[38;5;124mFuelLevelError\u001b[39m\u001b[38;5;124m\"\u001b[39m)\n",
      "File \u001b[0;32m~/Developer/Presentations/pyton_exception_handling/code/classes/fuel_tank.py:38\u001b[0m, in \u001b[0;36mFuelTank.refuel\u001b[0;34m(self, fuel_type, amount)\u001b[0m\n\u001b[1;32m     32\u001b[0m \u001b[38;5;250m\u001b[39m\u001b[38;5;124;03m\"\"\"\u001b[39;00m\n\u001b[1;32m     33\u001b[0m \u001b[38;5;124;03mRaises:\u001b[39;00m\n\u001b[1;32m     34\u001b[0m \u001b[38;5;124;03m    FuelTypeException: If fuel_type is not the correct fuel for the rocket\u001b[39;00m\n\u001b[1;32m     35\u001b[0m \u001b[38;5;124;03m    FuelLevelException: If the amount of fuel to add would overflow the tank\u001b[39;00m\n\u001b[1;32m     36\u001b[0m \u001b[38;5;124;03m\"\"\"\u001b[39;00m        \n\u001b[1;32m     37\u001b[0m \u001b[38;5;28;01mif\u001b[39;00m fuel_type \u001b[38;5;241m!=\u001b[39m \u001b[38;5;28mself\u001b[39m\u001b[38;5;241m.\u001b[39mfuel_type:\n\u001b[0;32m---> 38\u001b[0m     \u001b[38;5;28;01mraise\u001b[39;00m FuelTypeError(fuel_type)\n\u001b[1;32m     40\u001b[0m \u001b[38;5;28;01melif\u001b[39;00m (\u001b[38;5;28mself\u001b[39m\u001b[38;5;241m.\u001b[39mvolume \u001b[38;5;241m+\u001b[39m amount) \u001b[38;5;241m>\u001b[39m \u001b[38;5;28mself\u001b[39m\u001b[38;5;241m.\u001b[39mmax_volume:\n\u001b[1;32m     41\u001b[0m     \u001b[38;5;28;01mraise\u001b[39;00m FuelLevelError(\u001b[38;5;28mself\u001b[39m\u001b[38;5;241m.\u001b[39mmax_volume, \u001b[38;5;28mself\u001b[39m\u001b[38;5;241m.\u001b[39mvolume)\n",
      "\u001b[0;31mFuelTypeError\u001b[0m: Invalid fuel type: Diesel. Only 'Hydrogen' fuel is allowed."
     ]
    }
   ],
   "source": [
    "try:\n",
    "    rocket.fuel_tank.refuel(\"Diesel\", 100)\n",
    "    \n",
    "except FuelLevelError as e:\n",
    "    print(\"FuelLevelError\")\n",
    "    raise e\n",
    "    \n",
    "except FuelTankError as e:\n",
    "    print(\"FuelTankError\")\n",
    "    raise e"
   ]
  },
  {
   "cell_type": "markdown",
   "id": "5844de01",
   "metadata": {
    "slideshow": {
     "slide_type": "notes"
    }
   },
   "source": [
    "Here is an example of setting the custom \"base\" exception in the last block\n",
    "\n",
    "The specific exception is missed in the code handling it\n",
    "\n",
    "The hierarchy still manages to catch it and display the correct Exception happening"
   ]
  },
  {
   "cell_type": "markdown",
   "id": "5a113937",
   "metadata": {
    "slideshow": {
     "slide_type": "slide"
    }
   },
   "source": [
    "## Explicit chained exceptions: Keeping track of Exceptions"
   ]
  },
  {
   "cell_type": "code",
   "execution_count": 62,
   "id": "bba9defd",
   "metadata": {
    "slideshow": {
     "slide_type": "-"
    }
   },
   "outputs": [],
   "source": [
    "from classes.rocket import Rocket\n",
    "\n",
    "class RocketNotReadyError(Exception):\n",
    "    pass\n",
    "\n",
    "def refuel(rocket):\n",
    "    try:\n",
    "        rocket.refuel(\"Diesel\", 100)\n",
    "    except FuelTankError as e:\n",
    "        raise RocketNotReadyError(\"Can't launch Rocket today\") from e"
   ]
  },
  {
   "cell_type": "markdown",
   "id": "d533f5bb",
   "metadata": {
    "slideshow": {
     "slide_type": "notes"
    }
   },
   "source": [
    "An Exception can be caught and reraised again in the except clause\n",
    "\n",
    "You can also use raise from to raise a new Exception but keep the old one in the stack trace"
   ]
  },
  {
   "cell_type": "markdown",
   "id": "5b06ae3c",
   "metadata": {
    "slideshow": {
     "slide_type": "slide"
    }
   },
   "source": [
    "## Explicit chained exceptions: Showing the traceback"
   ]
  },
  {
   "cell_type": "code",
   "execution_count": 63,
   "id": "4cf2b27e",
   "metadata": {
    "slideshow": {
     "slide_type": "-"
    }
   },
   "outputs": [
    {
     "name": "stdout",
     "output_type": "stream",
     "text": [
      "Final check procedure\n",
      "General exception: \"Can't launch Rocket today\", caused by \"Invalid fuel type: Diesel. Only 'Hydrogen' fuel is allowed.\"\n"
     ]
    },
    {
     "ename": "RocketNotReadyError",
     "evalue": "Can't launch Rocket today",
     "output_type": "error",
     "traceback": [
      "\u001b[0;31m---------------------------------------------------------------------------\u001b[0m",
      "\u001b[0;31mFuelTypeError\u001b[0m                             Traceback (most recent call last)",
      "File \u001b[0;32m~/Developer/Presentations/pyton_exception_handling/code/classes/rocket.py:56\u001b[0m, in \u001b[0;36mRocket.refuel\u001b[0;34m(self, fuel_type, amount)\u001b[0m\n\u001b[1;32m     55\u001b[0m \u001b[38;5;28;01mtry\u001b[39;00m:\n\u001b[0;32m---> 56\u001b[0m     \u001b[38;5;28;43mself\u001b[39;49m\u001b[38;5;241;43m.\u001b[39;49m\u001b[43mfuel_tank\u001b[49m\u001b[38;5;241;43m.\u001b[39;49m\u001b[43mrefuel\u001b[49m\u001b[43m(\u001b[49m\u001b[43mfuel_type\u001b[49m\u001b[43m,\u001b[49m\u001b[43m \u001b[49m\u001b[43mamount\u001b[49m\u001b[43m)\u001b[49m\n\u001b[1;32m     57\u001b[0m \u001b[38;5;28;01mexcept\u001b[39;00m FuelTankError \u001b[38;5;28;01mas\u001b[39;00m e:\n",
      "File \u001b[0;32m~/Developer/Presentations/pyton_exception_handling/code/classes/fuel_tank.py:38\u001b[0m, in \u001b[0;36mFuelTank.refuel\u001b[0;34m(self, fuel_type, amount)\u001b[0m\n\u001b[1;32m     37\u001b[0m \u001b[38;5;28;01mif\u001b[39;00m fuel_type \u001b[38;5;241m!=\u001b[39m \u001b[38;5;28mself\u001b[39m\u001b[38;5;241m.\u001b[39mfuel_type:\n\u001b[0;32m---> 38\u001b[0m     \u001b[38;5;28;01mraise\u001b[39;00m FuelTypeError(fuel_type)\n\u001b[1;32m     40\u001b[0m \u001b[38;5;28;01melif\u001b[39;00m (\u001b[38;5;28mself\u001b[39m\u001b[38;5;241m.\u001b[39mvolume \u001b[38;5;241m+\u001b[39m amount) \u001b[38;5;241m>\u001b[39m \u001b[38;5;28mself\u001b[39m\u001b[38;5;241m.\u001b[39mmax_volume:\n",
      "\u001b[0;31mFuelTypeError\u001b[0m: Invalid fuel type: Diesel. Only 'Hydrogen' fuel is allowed.",
      "\nThe above exception was the direct cause of the following exception:\n",
      "\u001b[0;31mRocketNotReadyError\u001b[0m                       Traceback (most recent call last)",
      "Cell \u001b[0;32mIn[63], line 9\u001b[0m\n\u001b[1;32m      7\u001b[0m \u001b[38;5;28;01mexcept\u001b[39;00m RocketNotReadyError \u001b[38;5;28;01mas\u001b[39;00m f:\n\u001b[1;32m      8\u001b[0m     \u001b[38;5;28mprint\u001b[39m(\u001b[38;5;124m'\u001b[39m\u001b[38;5;124mGeneral exception: \u001b[39m\u001b[38;5;124m\"\u001b[39m\u001b[38;5;132;01m{}\u001b[39;00m\u001b[38;5;124m\"\u001b[39m\u001b[38;5;124m, caused by \u001b[39m\u001b[38;5;124m\"\u001b[39m\u001b[38;5;132;01m{}\u001b[39;00m\u001b[38;5;124m\"\u001b[39m\u001b[38;5;124m'\u001b[39m\u001b[38;5;241m.\u001b[39mformat(f, f\u001b[38;5;241m.\u001b[39m__cause__))\n\u001b[0;32m----> 9\u001b[0m     \u001b[38;5;28;01mraise\u001b[39;00m f\n",
      "Cell \u001b[0;32mIn[63], line 6\u001b[0m\n\u001b[1;32m      4\u001b[0m     \u001b[38;5;28mprint\u001b[39m(\u001b[38;5;124m'\u001b[39m\u001b[38;5;124mFinal check procedure\u001b[39m\u001b[38;5;124m'\u001b[39m)\n\u001b[1;32m      5\u001b[0m     rocket \u001b[38;5;241m=\u001b[39m Rocket(\u001b[38;5;124m\"\u001b[39m\u001b[38;5;124mArtemis 2\u001b[39m\u001b[38;5;124m\"\u001b[39m)\n\u001b[0;32m----> 6\u001b[0m     \u001b[43mrefuel\u001b[49m\u001b[43m(\u001b[49m\u001b[43mrocket\u001b[49m\u001b[43m)\u001b[49m\n\u001b[1;32m      7\u001b[0m \u001b[38;5;28;01mexcept\u001b[39;00m RocketNotReadyError \u001b[38;5;28;01mas\u001b[39;00m f:\n\u001b[1;32m      8\u001b[0m     \u001b[38;5;28mprint\u001b[39m(\u001b[38;5;124m'\u001b[39m\u001b[38;5;124mGeneral exception: \u001b[39m\u001b[38;5;124m\"\u001b[39m\u001b[38;5;132;01m{}\u001b[39;00m\u001b[38;5;124m\"\u001b[39m\u001b[38;5;124m, caused by \u001b[39m\u001b[38;5;124m\"\u001b[39m\u001b[38;5;132;01m{}\u001b[39;00m\u001b[38;5;124m\"\u001b[39m\u001b[38;5;124m'\u001b[39m\u001b[38;5;241m.\u001b[39mformat(f, f\u001b[38;5;241m.\u001b[39m__cause__))\n",
      "Cell \u001b[0;32mIn[62], line 8\u001b[0m, in \u001b[0;36mrefuel\u001b[0;34m(rocket)\u001b[0m\n\u001b[1;32m      6\u001b[0m \u001b[38;5;28;01mdef\u001b[39;00m \u001b[38;5;21mrefuel\u001b[39m(rocket):\n\u001b[1;32m      7\u001b[0m     \u001b[38;5;28;01mtry\u001b[39;00m:\n\u001b[0;32m----> 8\u001b[0m         \u001b[43mrocket\u001b[49m\u001b[38;5;241;43m.\u001b[39;49m\u001b[43mrefuel\u001b[49m\u001b[43m(\u001b[49m\u001b[38;5;124;43m\"\u001b[39;49m\u001b[38;5;124;43mDiesel\u001b[39;49m\u001b[38;5;124;43m\"\u001b[39;49m\u001b[43m,\u001b[49m\u001b[43m \u001b[49m\u001b[38;5;241;43m100\u001b[39;49m\u001b[43m)\u001b[49m\n\u001b[1;32m      9\u001b[0m     \u001b[38;5;28;01mexcept\u001b[39;00m FuelTankError \u001b[38;5;28;01mas\u001b[39;00m e:\n\u001b[1;32m     10\u001b[0m         \u001b[38;5;28;01mraise\u001b[39;00m RocketNotReadyError(\u001b[38;5;124m\"\u001b[39m\u001b[38;5;124mCan\u001b[39m\u001b[38;5;124m'\u001b[39m\u001b[38;5;124mt launch Rocket today\u001b[39m\u001b[38;5;124m\"\u001b[39m) \u001b[38;5;28;01mfrom\u001b[39;00m \u001b[38;5;21;01me\u001b[39;00m\n",
      "File \u001b[0;32m~/Developer/Presentations/pyton_exception_handling/code/classes/rocket.py:58\u001b[0m, in \u001b[0;36mRocket.refuel\u001b[0;34m(self, fuel_type, amount)\u001b[0m\n\u001b[1;32m     56\u001b[0m     \u001b[38;5;28mself\u001b[39m\u001b[38;5;241m.\u001b[39mfuel_tank\u001b[38;5;241m.\u001b[39mrefuel(fuel_type, amount)\n\u001b[1;32m     57\u001b[0m \u001b[38;5;28;01mexcept\u001b[39;00m FuelTankError \u001b[38;5;28;01mas\u001b[39;00m e:\n\u001b[0;32m---> 58\u001b[0m     \u001b[38;5;28;01mraise\u001b[39;00m RocketNotReadyError(\u001b[38;5;124m\"\u001b[39m\u001b[38;5;124mCan\u001b[39m\u001b[38;5;124m'\u001b[39m\u001b[38;5;124mt launch Rocket today\u001b[39m\u001b[38;5;124m\"\u001b[39m) \u001b[38;5;28;01mfrom\u001b[39;00m \u001b[38;5;21;01me\u001b[39;00m\n\u001b[1;32m     59\u001b[0m \u001b[38;5;28;01melse\u001b[39;00m:\n\u001b[1;32m     60\u001b[0m     \u001b[38;5;28mprint\u001b[39m(\u001b[38;5;124mf\u001b[39m\u001b[38;5;124m\"\u001b[39m\u001b[38;5;132;01m{\u001b[39;00m\u001b[38;5;28mself\u001b[39m\u001b[38;5;241m.\u001b[39mname\u001b[38;5;132;01m}\u001b[39;00m\u001b[38;5;124m refueled.\u001b[39m\u001b[38;5;124m\"\u001b[39m)\n",
      "\u001b[0;31mRocketNotReadyError\u001b[0m: Can't launch Rocket today"
     ]
    }
   ],
   "source": [
    "from classes.rocket import RocketNotReadyError\n",
    "\n",
    "try:\n",
    "    print('Final check procedure')\n",
    "    rocket = Rocket(\"Artemis 2\")\n",
    "    refuel(rocket)\n",
    "except RocketNotReadyError as f:\n",
    "    print('General exception: \"{}\", caused by \"{}\"'.format(f, f.__cause__))\n",
    "    raise f"
   ]
  },
  {
   "cell_type": "markdown",
   "id": "0e82f214",
   "metadata": {
    "slideshow": {
     "slide_type": "notes"
    }
   },
   "source": [
    "The raise from can be extended again in another try except\n",
    "\n",
    "The Exception will travel up the chain to where it wil be caught\n",
    "\n",
    "See the traceback in the slide"
   ]
  },
  {
   "cell_type": "markdown",
   "id": "4027cac6",
   "metadata": {
    "slideshow": {
     "slide_type": "slide"
    }
   },
   "source": [
    "## Suppressing errors"
   ]
  },
  {
   "cell_type": "code",
   "execution_count": 64,
   "id": "3ee22d94",
   "metadata": {
    "slideshow": {
     "slide_type": "-"
    }
   },
   "outputs": [
    {
     "ename": "ValueError",
     "evalue": "list.remove(x): x not in list",
     "output_type": "error",
     "traceback": [
      "\u001b[0;31m---------------------------------------------------------------------------\u001b[0m",
      "\u001b[0;31mValueError\u001b[0m                                Traceback (most recent call last)",
      "Cell \u001b[0;32mIn[64], line 3\u001b[0m\n\u001b[1;32m      1\u001b[0m fuels \u001b[38;5;241m=\u001b[39m [\u001b[38;5;124m\"\u001b[39m\u001b[38;5;124mDiesel\u001b[39m\u001b[38;5;124m\"\u001b[39m, \u001b[38;5;124m\"\u001b[39m\u001b[38;5;124mHydrogen\u001b[39m\u001b[38;5;124m\"\u001b[39m]\n\u001b[0;32m----> 3\u001b[0m \u001b[43mfuels\u001b[49m\u001b[38;5;241;43m.\u001b[39;49m\u001b[43mremove\u001b[49m\u001b[43m(\u001b[49m\u001b[38;5;124;43m\"\u001b[39;49m\u001b[38;5;124;43mGasoline\u001b[39;49m\u001b[38;5;124;43m\"\u001b[39;49m\u001b[43m)\u001b[49m\n",
      "\u001b[0;31mValueError\u001b[0m: list.remove(x): x not in list"
     ]
    }
   ],
   "source": [
    "fuels = [\"Diesel\", \"Hydrogen\"]\n",
    "\n",
    "fuels.remove(\"Gasoline\")"
   ]
  },
  {
   "cell_type": "markdown",
   "id": "2a7f6c36",
   "metadata": {
    "slideshow": {
     "slide_type": "subslide"
    }
   },
   "source": [
    "## Suppressing errors"
   ]
  },
  {
   "cell_type": "code",
   "execution_count": 69,
   "id": "b3bc45ec",
   "metadata": {
    "slideshow": {
     "slide_type": "-"
    }
   },
   "outputs": [
    {
     "name": "stdout",
     "output_type": "stream",
     "text": [
      "['Diesel', 'Hydrogen']\n"
     ]
    }
   ],
   "source": [
    "fuels = [\"Diesel\", \"Hydrogen\"]\n",
    "\n",
    "# (LBYL) Look before you leap:\n",
    "def remove_from_list(a_list, element):\n",
    "    if element in a_list:\n",
    "        a_list.remove(element)\n",
    "         \n",
    "remove_from_list(fuels, \"Gasoline\")\n",
    "print(fuels)"
   ]
  },
  {
   "cell_type": "markdown",
   "id": "c33f1569",
   "metadata": {
    "slideshow": {
     "slide_type": "subslide"
    }
   },
   "source": [
    "## Suppressing errors: Try Except pass"
   ]
  },
  {
   "cell_type": "code",
   "execution_count": 70,
   "id": "3c00c48b",
   "metadata": {
    "slideshow": {
     "slide_type": "-"
    }
   },
   "outputs": [
    {
     "name": "stdout",
     "output_type": "stream",
     "text": [
      "['Diesel', 'Hydrogen']\n"
     ]
    }
   ],
   "source": [
    "fuels = [\"Diesel\", \"Hydrogen\"]\n",
    "\n",
    "# (EAFP) Easier to ask forgiveness than permission:\n",
    "def remove_from_list(a_list, element):\n",
    "    try:\n",
    "        a_list.remove(element)\n",
    "    except ValueError:\n",
    "        pass\n",
    "\n",
    "remove_from_list(fuels, \"Gasoline\")\n",
    "print(fuels)"
   ]
  },
  {
   "cell_type": "markdown",
   "id": "13c15581",
   "metadata": {
    "slideshow": {
     "slide_type": "subslide"
    }
   },
   "source": [
    "## Suppressing errors: Using contextlib"
   ]
  },
  {
   "cell_type": "code",
   "execution_count": 71,
   "id": "fd6bf086",
   "metadata": {
    "slideshow": {
     "slide_type": "-"
    }
   },
   "outputs": [
    {
     "name": "stdout",
     "output_type": "stream",
     "text": [
      "['Diesel', 'Hydrogen']\n"
     ]
    }
   ],
   "source": [
    "fuels = [\"Diesel\", \"Hydrogen\"]\n",
    "\n",
    "from contextlib import suppress\n",
    "\n",
    "def remove_from_list(a_list, element):\n",
    "    with suppress(ValueError):\n",
    "        a_list.remove(element)\n",
    "        \n",
    "remove_from_list(fuels, \"Gasoline\")\n",
    "print(fuels)"
   ]
  },
  {
   "cell_type": "markdown",
   "id": "59e4d424",
   "metadata": {
    "slideshow": {
     "slide_type": "notes"
    }
   },
   "source": [
    "Easier to Ask for Forgiveness than Permission\n",
    "\n",
    "As with any other mechanism that completely suppresses exceptions, this context manager should be used only to cover very specific errors where silently continuing with program execution is known to be the right thing to do."
   ]
  },
  {
   "cell_type": "markdown",
   "id": "4b15e449",
   "metadata": {
    "slideshow": {
     "slide_type": "subslide"
    }
   },
   "source": [
    "## Suppressing errors: Logging"
   ]
  },
  {
   "cell_type": "code",
   "execution_count": 72,
   "id": "83d393df",
   "metadata": {
    "slideshow": {
     "slide_type": "-"
    }
   },
   "outputs": [
    {
     "name": "stdout",
     "output_type": "stream",
     "text": [
      "Gasoline not in list\n",
      "['Diesel', 'Hydrogen']\n"
     ]
    }
   ],
   "source": [
    "fuels = [\"Diesel\", \"Hydrogen\"]\n",
    "\n",
    "def remove_from_list(a_list, element):\n",
    "    try:\n",
    "        a_list.remove(element)\n",
    "    except ValueError:\n",
    "        print(f\"{element} not in list\")\n",
    "\n",
    "remove_from_list(fuels, \"Gasoline\")\n",
    "print(fuels)"
   ]
  },
  {
   "cell_type": "markdown",
   "id": "1bd8cf46",
   "metadata": {
    "slideshow": {
     "slide_type": "subslide"
    }
   },
   "source": [
    "## Suppressing errors: Using the Rocket example"
   ]
  },
  {
   "cell_type": "code",
   "execution_count": 73,
   "id": "94d70a5e",
   "metadata": {
    "slideshow": {
     "slide_type": "-"
    }
   },
   "outputs": [],
   "source": [
    "class CommandCentre:\n",
    "    def __init__(self) -> None:\n",
    "        self.signal = 100\n",
    "        \n",
    "    def generate_transmissions(self):\n",
    "        messages = [\n",
    "            \"Message 1\",\n",
    "            {\"number\": 5},\n",
    "            \"Message 2\",\n",
    "            5,\n",
    "            \"Message 3\",\n",
    "        ]\n",
    "        for message in messages:\n",
    "            yield message  "
   ]
  },
  {
   "cell_type": "markdown",
   "id": "e31b02f7",
   "metadata": {
    "slideshow": {
     "slide_type": "notes"
    }
   },
   "source": [
    "The command centre will broadcast messages\n",
    "\n",
    "Only the strings are interesting to us. The other will give Exceptions when we try to handle them\n",
    "\n",
    "What could be a clean way to handle these?"
   ]
  },
  {
   "cell_type": "markdown",
   "id": "e67e231d",
   "metadata": {
    "slideshow": {
     "slide_type": "subslide"
    }
   },
   "source": [
    "## Suppressing errors: Try Except pass"
   ]
  },
  {
   "cell_type": "code",
   "execution_count": 74,
   "id": "2c824e18",
   "metadata": {
    "slideshow": {
     "slide_type": "-"
    }
   },
   "outputs": [
    {
     "name": "stdout",
     "output_type": "stream",
     "text": [
      "Received: Message 1\n",
      "Received: Message 2\n",
      "Received: Message 3\n",
      "End of transmission\n"
     ]
    }
   ],
   "source": [
    "def receive_transmissions():\n",
    "    centre = CommandCentre()\n",
    "    transmission_generator = centre.generate_transmissions()\n",
    "    while True:\n",
    "        try:\n",
    "            transmission = next(transmission_generator)\n",
    "            \n",
    "            try:\n",
    "                transmission = transmission.strip()\n",
    "            except AttributeError:\n",
    "                continue\n",
    "            except TypeError:\n",
    "                continue\n",
    "            else:\n",
    "                print(f\"Received: {transmission}\")\n",
    "                \n",
    "        except StopIteration:\n",
    "            print(\"End of transmission\")\n",
    "            break\n",
    "        \n",
    "receive_transmissions()"
   ]
  },
  {
   "cell_type": "markdown",
   "id": "85062bbd",
   "metadata": {
    "slideshow": {
     "slide_type": "subslide"
    }
   },
   "source": [
    "## Suppressing errors: Using contextlib"
   ]
  },
  {
   "cell_type": "code",
   "execution_count": 75,
   "id": "406e09d0",
   "metadata": {
    "slideshow": {
     "slide_type": "-"
    }
   },
   "outputs": [
    {
     "name": "stdout",
     "output_type": "stream",
     "text": [
      "Received: Message 1\n",
      "Received: Message 2\n",
      "Received: Message 3\n",
      "End of transmission\n"
     ]
    }
   ],
   "source": [
    "from contextlib import suppress\n",
    "\n",
    "def receive_transmissions():\n",
    "    centre = CommandCentre()\n",
    "    transmission_generator = centre.generate_transmissions()    \n",
    "    while True:\n",
    "        try:\n",
    "            transmission = next(transmission_generator)\n",
    "            \n",
    "            with suppress((AttributeError, TypeError)):\n",
    "                transmission = transmission.strip()\n",
    "                print(f\"Received: {transmission}\")\n",
    "                \n",
    "        except StopIteration:\n",
    "            print(\"End of transmission\")\n",
    "            break\n",
    "\n",
    "receive_transmissions()"
   ]
  },
  {
   "cell_type": "markdown",
   "id": "029e8bfe",
   "metadata": {
    "slideshow": {
     "slide_type": "notes"
    }
   },
   "source": [
    "With suppress uses a ContextManager to handle the Exceptions. The result is the same as the code in the previous slide but it is easier to read and more Pythonic.\n",
    "\n",
    "Return a context manager that suppresses any of the specified exceptions if they occur in the body of a with statement and then resumes execution with the first statement following the end of the with statement."
   ]
  },
  {
   "cell_type": "markdown",
   "id": "30efadba",
   "metadata": {
    "slideshow": {
     "slide_type": "slide"
    }
   },
   "source": [
    "# Async Exception Handling"
   ]
  },
  {
   "cell_type": "markdown",
   "id": "fded3d80",
   "metadata": {
    "slideshow": {
     "slide_type": "notes"
    }
   },
   "source": [
    "Async Python brings a whole load of other problems including multiple exceptions from different tasks\n",
    "\n",
    "Python 3.11 brought new features including TaskGroups and ExceptionGroups\n",
    "\n",
    "Both named Groups and released at the same time. They must be related.\n",
    "\n"
   ]
  },
  {
   "cell_type": "code",
   "execution_count": 76,
   "id": "7af80d2c",
   "metadata": {},
   "outputs": [
    {
     "data": {
      "text/plain": [
       "True"
      ]
     },
     "execution_count": 76,
     "metadata": {},
     "output_type": "execute_result"
    }
   ],
   "source": [
    "issubclass(ExceptionGroup, Exception)"
   ]
  },
  {
   "cell_type": "markdown",
   "id": "94817359",
   "metadata": {
    "slideshow": {
     "slide_type": "subslide"
    }
   },
   "source": [
    "## Async Exception Handling: Custom Exceptions"
   ]
  },
  {
   "cell_type": "code",
   "execution_count": 105,
   "id": "e7256e55",
   "metadata": {
    "slideshow": {
     "slide_type": "-"
    }
   },
   "outputs": [],
   "source": [
    "class EngineError(Exception):\n",
    "    pass\n",
    "\n",
    "class IgnitionError(EngineError):\n",
    "    def __init__(self, engine) -> None:\n",
    "        self.engine = engine\n",
    "        message = f\"Engine {engine} failed to ignite\"\n",
    "        super().__init__(message)\n",
    "\n",
    "    def __str__(self):\n",
    "        return f\"Error in engine {self.engine}\""
   ]
  },
  {
   "cell_type": "markdown",
   "id": "9350f3b9",
   "metadata": {
    "slideshow": {
     "slide_type": "subslide"
    }
   },
   "source": [
    "## Async Exception Handling: Random Engine failure"
   ]
  },
  {
   "cell_type": "code",
   "execution_count": 106,
   "id": "21d6db1a",
   "metadata": {
    "slideshow": {
     "slide_type": "-"
    }
   },
   "outputs": [],
   "source": [
    "import asyncio\n",
    "import random\n",
    "\n",
    "async def fire_engine(engine):\n",
    "    print(f\"Attempting to fire engine {engine}\")\n",
    "    engine_fires_chance = random.random()\n",
    "    \n",
    "    if engine_fires_chance < 0.3:\n",
    "        raise EngineError(f\"Something went wrong in engine {engine}\")\n",
    "        \n",
    "    elif engine_fires_chance >= 0.8:\n",
    "        print(f\"Engine {engine} failed to fire\")\n",
    "        raise IgnitionError(engine)\n",
    "        \n",
    "    print(f\"Engine {engine} fired up!\")"
   ]
  },
  {
   "cell_type": "markdown",
   "id": "1b970460",
   "metadata": {
    "slideshow": {
     "slide_type": "subslide"
    }
   },
   "source": [
    "## Async Exception Handling: Creating tasks"
   ]
  },
  {
   "cell_type": "code",
   "execution_count": 183,
   "id": "e1518bb1",
   "metadata": {
    "slideshow": {
     "slide_type": "-"
    }
   },
   "outputs": [
    {
     "name": "stdout",
     "output_type": "stream",
     "text": [
      "Attempting to fire engine 1\n",
      "Engine 1 fired up!\n",
      "Attempting to fire engine 2\n",
      "Engine 2 fired up!\n",
      "Attempting to fire engine 3\n",
      "Handling EngineError\n",
      "Attempting to fire engine 4\n",
      "Engine 4 fired up!\n"
     ]
    }
   ],
   "source": [
    "async def apply_throttle(engine):\n",
    "    try:\n",
    "        task = asyncio.create_task(fire_engine(engine))\n",
    "        await task\n",
    "        if task.done():\n",
    "            ex = task.exception()\n",
    "            if ex:\n",
    "                raise ex\n",
    "    \n",
    "    except IgnitionError as e:\n",
    "        print(\"Handling IgnitionError\")\n",
    "        \n",
    "    except EngineError as e:\n",
    "        print(\"Handling EngineError\")\n",
    "        \n",
    "await apply_throttle(1)\n",
    "await apply_throttle(2)\n",
    "await apply_throttle(3)\n",
    "await apply_throttle(4)"
   ]
  },
  {
   "cell_type": "markdown",
   "id": "5f8f9e0c",
   "metadata": {
    "slideshow": {
     "slide_type": "subslide"
    }
   },
   "source": [
    "## Async Exception Handling: Gathering Tasks"
   ]
  },
  {
   "cell_type": "code",
   "execution_count": 186,
   "id": "a3218071",
   "metadata": {
    "slideshow": {
     "slide_type": "-"
    }
   },
   "outputs": [
    {
     "name": "stdout",
     "output_type": "stream",
     "text": [
      "Attempting to fire engine 1\n",
      "Engine 1 failed to fire\n",
      "Attempting to fire engine 2\n",
      "Engine 2 fired up!\n",
      "Attempting to fire engine 3\n",
      "Engine 3 fired up!\n",
      "Attempting to fire engine 4\n",
      "Engine 4 fired up!\n",
      "Handling IgnitionError\n"
     ]
    }
   ],
   "source": [
    "async def apply_throttle():\n",
    "    try:\n",
    "        results = await asyncio.gather(\n",
    "            fire_engine(1), \n",
    "            fire_engine(2), \n",
    "            fire_engine(3), \n",
    "            fire_engine(4)\n",
    "        )\n",
    "    except IgnitionError as e:\n",
    "        print(\"Handling IgnitionError\")\n",
    "        \n",
    "    except EngineError as e:\n",
    "        print(\"Handling EngineError\")\n",
    "                \n",
    "await apply_throttle()"
   ]
  },
  {
   "cell_type": "markdown",
   "id": "955fa7d0",
   "metadata": {
    "slideshow": {
     "slide_type": "notes"
    }
   },
   "source": [
    "When a co-routine raises an exception it propagates up to the scheduler. \n",
    "The scheduler captures the exception, marks the task as done, removes it from the event loop and notes the exception in the task object."
   ]
  },
  {
   "cell_type": "markdown",
   "id": "3496ae32",
   "metadata": {
    "slideshow": {
     "slide_type": "subslide"
    }
   },
   "source": [
    "## Async Exception Handling: Using TaskGroups"
   ]
  },
  {
   "cell_type": "code",
   "execution_count": 187,
   "id": "4ca732c4",
   "metadata": {
    "slideshow": {
     "slide_type": "-"
    }
   },
   "outputs": [],
   "source": [
    "async def apply_throttle(motors):\n",
    "    try:\n",
    "        async with asyncio.TaskGroup() as tg:\n",
    "            \n",
    "            for x in range(motors):\n",
    "                tg.create_task(\n",
    "                    fire_engine(x)\n",
    "                )\n",
    "\n",
    "    except* IgnitionError as e:\n",
    "        print(f\"Handling IgnitionErrors: {e.exceptions}\")\n",
    "        \n",
    "    except* EngineError as e:\n",
    "        print(f\"Handling EngineErrors: {e.exceptions}\")"
   ]
  },
  {
   "cell_type": "markdown",
   "id": "cc270a2b",
   "metadata": {
    "slideshow": {
     "slide_type": "subslide"
    }
   },
   "source": [
    "## Async Exception Handling: Tracebacks"
   ]
  },
  {
   "cell_type": "code",
   "execution_count": 172,
   "id": "c1c41ae4",
   "metadata": {
    "slideshow": {
     "slide_type": "-"
    }
   },
   "outputs": [
    {
     "name": "stdout",
     "output_type": "stream",
     "text": [
      "Attempting to fire engine 0\n",
      "Engine 0 fired up!\n",
      "Attempting to fire engine 1\n",
      "Engine 1 failed to fire\n",
      "Attempting to fire engine 2\n",
      "Engine 2 fired up!\n",
      "Attempting to fire engine 3\n",
      "Engine 3 fired up!\n",
      "Handling IgnitionErrors: (IgnitionError('Engine 1 failed to ignite'),)\n"
     ]
    }
   ],
   "source": [
    "\n",
    "await apply_throttle(4) "
   ]
  },
  {
   "cell_type": "markdown",
   "id": "6f766955",
   "metadata": {
    "slideshow": {
     "slide_type": "subslide"
    }
   },
   "source": [
    "  + Exception Group Traceback (most recent call last):\n",
    "  | ExceptionGroup:  (2 sub-exceptions)\n",
    "  +-+---------------- 1 ----------------\n",
    "    | Exception Group Traceback (most recent call last):\n",
    "    |   File \"/classes/engine.py\", line 32, in apply_throttle\n",
    "    |     async with asyncio.TaskGroup() as tg:\n",
    "    |   File \"/usr/lib/python3.11/asyncio/taskgroups.py\", line 147, in __aexit__\n",
    "    |     raise me from None\n",
    "    | ExceptionGroup: unhandled errors in a TaskGroup (2 sub-exceptions)\n"
   ]
  },
  {
   "cell_type": "markdown",
   "id": "bf15e23b",
   "metadata": {
    "slideshow": {
     "slide_type": "subslide"
    }
   },
   "source": [
    "   | ExceptionGroup: unhandled errors in a TaskGroup (2 sub-exceptions)\n",
    "   +-+---------------- 1 ----------------\n",
    "      | Traceback (most recent call last):\n",
    "      |   File \"/classes/engine.py\", line 53, in fire_engine\n",
    "      |     raise IgnitionError(motor)\n",
    "      | classes.engine.IgnitionError: Error in engine 1\n",
    "      +---------------- 2 ----------------\n",
    "      | Traceback (most recent call last):\n",
    "      |   File \"/classes/engine.py\", line 53, in fire_engine\n",
    "      |     raise IgnitionError(motor)\n",
    "      | classes.engine.IgnitionError: Error in engine 2"
   ]
  },
  {
   "cell_type": "markdown",
   "id": "f0c56c46",
   "metadata": {
    "slideshow": {
     "slide_type": "slide"
    }
   },
   "source": [
    "## So can we finally launch the Rocket?"
   ]
  },
  {
   "cell_type": "code",
   "execution_count": null,
   "id": "c319b406",
   "metadata": {},
   "outputs": [],
   "source": [
    "from classes.rocket import Rocket, StartUpAbort, RocketNotReadyError\n",
    "from classes.launchpad import Launchpad\n",
    "from classes.engine import IgnitionError\n",
    "\n",
    "rocket = Rocket(\"Artemis\")\n",
    "launchpad = Launchpad()\n",
    "\n",
    "try:\n",
    "    rocket.startup_sequence()\n",
    "except StartUpAbort as e:\n",
    "    raise e\n"
   ]
  },
  {
   "cell_type": "code",
   "execution_count": null,
   "id": "3631028d",
   "metadata": {},
   "outputs": [],
   "source": [
    "async def launch_rocket(rocket):\n",
    "    try:\n",
    "        launchpad.clear()\n",
    "        await rocket.launch()\n",
    "    except ExceptionGroup as e:\n",
    "        print(\"Launch failed\")\n",
    "    else:\n",
    "        print(\"\\n\")\n",
    "        print(rocket)\n",
    "    finally:\n",
    "        launchpad.release()\n",
    "\n",
    "await launch_rocket(rocket)"
   ]
  }
 ],
 "metadata": {
  "celltoolbar": "Slideshow",
  "kernelspec": {
   "display_name": "Python 3 (ipykernel)",
   "language": "python",
   "name": "python3"
  },
  "language_info": {
   "codemirror_mode": {
    "name": "ipython",
    "version": 3
   },
   "file_extension": ".py",
   "mimetype": "text/x-python",
   "name": "python",
   "nbconvert_exporter": "python",
   "pygments_lexer": "ipython3",
   "version": "3.11.3"
  },
  "rise": {
   "footer": "<h2  style='text-align: right;'>Error handling is boring but this is the Exception - Vito Minheere 16-05-2023 - Codebeez - Pygrunn</h2>",
   "scroll": true,
   "theme": "simple"
  }
 },
 "nbformat": 4,
 "nbformat_minor": 5
}
