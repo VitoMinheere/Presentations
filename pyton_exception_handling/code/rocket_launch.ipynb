{
 "cells": [
  {
   "cell_type": "code",
   "execution_count": 66,
   "id": "2a3db763",
   "metadata": {
    "slideshow": {
     "slide_type": "slide"
    }
   },
   "outputs": [
    {
     "data": {
      "text/plain": [
       "['__class__',\n",
       " '__delattr__',\n",
       " '__delete__',\n",
       " '__dir__',\n",
       " '__doc__',\n",
       " '__eq__',\n",
       " '__format__',\n",
       " '__ge__',\n",
       " '__get__',\n",
       " '__getattribute__',\n",
       " '__gt__',\n",
       " '__hash__',\n",
       " '__init__',\n",
       " '__init_subclass__',\n",
       " '__le__',\n",
       " '__lt__',\n",
       " '__name__',\n",
       " '__ne__',\n",
       " '__new__',\n",
       " '__objclass__',\n",
       " '__qualname__',\n",
       " '__reduce__',\n",
       " '__reduce_ex__',\n",
       " '__repr__',\n",
       " '__set__',\n",
       " '__setattr__',\n",
       " '__sizeof__',\n",
       " '__str__',\n",
       " '__subclasshook__']"
      ]
     },
     "execution_count": 66,
     "metadata": {},
     "output_type": "execute_result"
    }
   ],
   "source": [
    "class Crew:\n",
    "    pass\n",
    "\n",
    "class Rocket:\n",
    "    pass\n",
    "\n",
    "dir(Exception.args)"
   ]
  },
  {
   "cell_type": "markdown",
   "id": "efb9bc8d",
   "metadata": {
    "slideshow": {
     "slide_type": "slide"
    }
   },
   "source": [
    "# What is an Exception?"
   ]
  },
  {
   "cell_type": "code",
   "execution_count": 1,
   "id": "42f60d60",
   "metadata": {},
   "outputs": [
    {
     "ename": "TypeError",
     "evalue": "exceptions must derive from BaseException",
     "output_type": "error",
     "traceback": [
      "\u001b[0;31m---------------------------------------------------------------------------\u001b[0m",
      "\u001b[0;31mTypeError\u001b[0m                                 Traceback (most recent call last)",
      "Cell \u001b[0;32mIn[1], line 1\u001b[0m\n\u001b[0;32m----> 1\u001b[0m \u001b[38;5;28;01mraise\u001b[39;00m \u001b[38;5;124m\"\u001b[39m\u001b[38;5;124mException\u001b[39m\u001b[38;5;124m\"\u001b[39m\n",
      "\u001b[0;31mTypeError\u001b[0m: exceptions must derive from BaseException"
     ]
    }
   ],
   "source": [
    "raise \"Exception\""
   ]
  },
  {
   "cell_type": "markdown",
   "id": "d2f5a68b",
   "metadata": {
    "slideshow": {
     "slide_type": "slide"
    }
   },
   "source": [
    "BaseException\n",
    " ├── BaseExceptionGroup\n",
    " ├── GeneratorExit\n",
    " ├── KeyboardInterrupt\n",
    " ├── SystemExit\n",
    " └── Exception\n",
    "      ├── ArithmeticError\n",
    "      │    ├── FloatingPointError\n",
    "      │    ├── OverflowError\n",
    "      │    └── ZeroDivisionError\n",
    "      ├── AssertionError\n",
    "      ├── AttributeError\n",
    "      ├── EOFError\n",
    "      ├── LookupError\n",
    "      │    ├── IndexError\n",
    "      │    └── KeyError"
   ]
  },
  {
   "cell_type": "code",
   "execution_count": 2,
   "id": "1a5c86ed",
   "metadata": {
    "slideshow": {
     "slide_type": "slide"
    }
   },
   "outputs": [
    {
     "name": "stdout",
     "output_type": "stream",
     "text": [
      "Caught Exception\n"
     ]
    }
   ],
   "source": [
    "# Order of exceptions\n",
    "def divide(a, b):\n",
    "    return a/b\n",
    "\n",
    "try:\n",
    "    divide(1,0)\n",
    "except Exception as e:\n",
    "    print(\"Caught Exception\")\n",
    "except ArithmeticError as e:\n",
    "    print(\"Arithmetic Error raised\")\n",
    "    raise e\n",
    "except ZeroDivisionError as e:\n",
    "    print(\"Zero Division raised\")\n",
    "    raise e\n"
   ]
  },
  {
   "cell_type": "code",
   "execution_count": 3,
   "id": "f1343775",
   "metadata": {
    "slideshow": {
     "slide_type": "-"
    }
   },
   "outputs": [
    {
     "ename": "NameError",
     "evalue": "name 'y' is not defined",
     "output_type": "error",
     "traceback": [
      "\u001b[0;31m---------------------------------------------------------------------------\u001b[0m",
      "\u001b[0;31mNameError\u001b[0m                                 Traceback (most recent call last)",
      "Cell \u001b[0;32mIn[3], line 7\u001b[0m\n\u001b[1;32m      5\u001b[0m \u001b[38;5;28;01mexcept\u001b[39;00m \u001b[38;5;167;01mException\u001b[39;00m \u001b[38;5;28;01mas\u001b[39;00m e:\n\u001b[1;32m      6\u001b[0m     \u001b[38;5;28;01mpass\u001b[39;00m\n\u001b[0;32m----> 7\u001b[0m \u001b[38;5;28mprint\u001b[39m(\u001b[43my\u001b[49m)\n",
      "\u001b[0;31mNameError\u001b[0m: name 'y' is not defined"
     ]
    }
   ],
   "source": [
    "formula = {\"x\": 1}\n",
    "\n",
    "try:\n",
    "    y = formula[\"y\"]\n",
    "except Exception as e:\n",
    "    pass\n",
    "print(y)"
   ]
  },
  {
   "cell_type": "code",
   "execution_count": 4,
   "id": "b32d9290",
   "metadata": {
    "slideshow": {
     "slide_type": "slide"
    }
   },
   "outputs": [
    {
     "name": "stdout",
     "output_type": "stream",
     "text": [
      "Raised SystemExit\n"
     ]
    }
   ],
   "source": [
    "import sys\n",
    "try:\n",
    "    sys.exit()\n",
    "except Exception as e:\n",
    "    print(\"SystemExit caught\")\n",
    "except SystemExit as e:\n",
    "    print(\"Raised SystemExit\")"
   ]
  },
  {
   "cell_type": "code",
   "execution_count": 44,
   "id": "58fc35f0",
   "metadata": {
    "slideshow": {
     "slide_type": "subslide"
    }
   },
   "outputs": [
    {
     "name": "stdout",
     "output_type": "stream",
     "text": [
      "SystemExit caught by BaseException\n"
     ]
    }
   ],
   "source": [
    "import sys\n",
    "try:\n",
    "    sys.exit()\n",
    "except Exception as e:\n",
    "    print(\"SystemExit caught\")\n",
    "except BaseException as e:\n",
    "    print(\"SystemExit caught by BaseException\")    \n",
    "except SystemExit as e:\n",
    "    print(\"Raised SystemExit\")"
   ]
  },
  {
   "cell_type": "code",
   "execution_count": 5,
   "id": "12990b3d",
   "metadata": {
    "slideshow": {
     "slide_type": "slide"
    }
   },
   "outputs": [
    {
     "name": "stdout",
     "output_type": "stream",
     "text": [
      "Can't divide by 0\n"
     ]
    },
    {
     "ename": "TypeError",
     "evalue": "unsupported operand type(s) for /: 'int' and 'str'",
     "output_type": "error",
     "traceback": [
      "\u001b[0;31m---------------------------------------------------------------------------\u001b[0m",
      "\u001b[0;31mTypeError\u001b[0m                                 Traceback (most recent call last)",
      "Cell \u001b[0;32mIn[5], line 7\u001b[0m\n\u001b[1;32m      5\u001b[0m \u001b[38;5;28;01mfor\u001b[39;00m value \u001b[38;5;129;01min\u001b[39;00m inputs:\n\u001b[1;32m      6\u001b[0m     \u001b[38;5;28;01mtry\u001b[39;00m:\n\u001b[0;32m----> 7\u001b[0m         \u001b[43mdivide\u001b[49m\u001b[43m(\u001b[49m\u001b[38;5;241;43m1\u001b[39;49m\u001b[43m,\u001b[49m\u001b[43m \u001b[49m\u001b[43mvalue\u001b[49m\u001b[43m)\u001b[49m\n\u001b[1;32m      8\u001b[0m     \u001b[38;5;28;01mexcept\u001b[39;00m \u001b[38;5;167;01mZeroDivisionError\u001b[39;00m \u001b[38;5;28;01mas\u001b[39;00m e:\n\u001b[1;32m      9\u001b[0m         \u001b[38;5;28mprint\u001b[39m(\u001b[38;5;124m\"\u001b[39m\u001b[38;5;124mCan\u001b[39m\u001b[38;5;124m'\u001b[39m\u001b[38;5;124mt divide by\u001b[39m\u001b[38;5;124m\"\u001b[39m, value)\n",
      "Cell \u001b[0;32mIn[5], line 4\u001b[0m, in \u001b[0;36mdivide\u001b[0;34m(a, b)\u001b[0m\n\u001b[1;32m      3\u001b[0m \u001b[38;5;28;01mdef\u001b[39;00m \u001b[38;5;21mdivide\u001b[39m(a, b):\n\u001b[0;32m----> 4\u001b[0m     \u001b[38;5;28;01mreturn\u001b[39;00m \u001b[43ma\u001b[49m\u001b[38;5;241;43m/\u001b[39;49m\u001b[43mb\u001b[49m\n",
      "\u001b[0;31mTypeError\u001b[0m: unsupported operand type(s) for /: 'int' and 'str'"
     ]
    }
   ],
   "source": [
    "inputs = [1, 0, \"two\"]\n",
    "\n",
    "def divide(a, b):\n",
    "    return a/b\n",
    "for value in inputs:\n",
    "    try:\n",
    "        divide(1, value)\n",
    "    except ZeroDivisionError as e:\n",
    "        print(\"Can't divide by\", value)\n",
    " "
   ]
  },
  {
   "cell_type": "code",
   "execution_count": 9,
   "id": "c337944a",
   "metadata": {
    "slideshow": {
     "slide_type": "subslide"
    }
   },
   "outputs": [
    {
     "name": "stdout",
     "output_type": "stream",
     "text": [
      "Can't divide by  0\n",
      "Can't divide by  two\n"
     ]
    }
   ],
   "source": [
    "inputs = [1, 0, \"two\"]\n",
    "\n",
    "def divide(a, b):\n",
    "    return a/b\n",
    "for value in inputs:\n",
    "    try:\n",
    "        divide(1, value)\n",
    "    except ZeroDivisionError as e:\n",
    "        print(\"Can't divide by \", value)\n",
    "    except TypeError as e:\n",
    "        print(\"Can't divide by \", value)\n"
   ]
  },
  {
   "cell_type": "code",
   "execution_count": 54,
   "id": "b904aa98",
   "metadata": {
    "slideshow": {
     "slide_type": "subslide"
    }
   },
   "outputs": [
    {
     "name": "stdout",
     "output_type": "stream",
     "text": [
      "Can't divide by 0\n",
      "Can't divide by two\n"
     ]
    }
   ],
   "source": [
    "inputs = [1, 0, \"two\"]\n",
    "\n",
    "def divide(a, b):\n",
    "    return a/b\n",
    "for value in inputs:\n",
    "    try:\n",
    "        divide(1, value)\n",
    "    except (ZeroDivisionError, TypeError) as e:\n",
    "        print(\"Can't divide by\", value)"
   ]
  },
  {
   "cell_type": "markdown",
   "id": "e2d5d373",
   "metadata": {
    "slideshow": {
     "slide_type": "slide"
    }
   },
   "source": [
    "# Custom Exceptions"
   ]
  },
  {
   "cell_type": "code",
   "execution_count": 14,
   "id": "03198916",
   "metadata": {},
   "outputs": [],
   "source": [
    "class FuelTypeException(Exception):\n",
    "    def __init__(self, fuel_type):\n",
    "        message = f\"Invalid fuel type: {fuel_type}. Only 'Hydrogen' fuel is allowed.\"\n",
    "        super().__init__(message)\n"
   ]
  },
  {
   "cell_type": "code",
   "execution_count": 15,
   "id": "12da6476",
   "metadata": {},
   "outputs": [],
   "source": [
    "class Rocket:\n",
    "    \n",
    "    \n",
    "    def __init__(self, name, fuel, altitude):\n",
    "        self.name = name\n",
    "        self.fuel = fuel\n",
    "        self.altitude = altitude\n",
    "        self.allowed_fuel = \"Hydrogen\"\n",
    "        \n",
    "    def launch(self):\n",
    "        if self.fuel > 0:\n",
    "            print(f\"{self.name} launched!\")\n",
    "            self.altitude += 100\n",
    "            self.fuel -= 1\n",
    "        else:\n",
    "            print(f\"{self.name} has no fuel left.\")\n",
    "\n",
    "    def refuel(self, amount, fuel_type):\n",
    "        if fuel_type != self.allowed_fuel:\n",
    "            raise FuelTypeException(fuel_type)\n",
    "        self.fuel += amount\n",
    "        print(f\"{self.name} refueled. Fuel level is now {self.fuel}.\")\n",
    "\n",
    "    def status(self):\n",
    "        print(f\"{self.name} is at an altitude of {self.altitude} and has {self.fuel} units of fuel.\")\n",
    "\n"
   ]
  },
  {
   "cell_type": "code",
   "execution_count": 23,
   "id": "c85f7af4",
   "metadata": {},
   "outputs": [
    {
     "name": "stdout",
     "output_type": "stream",
     "text": [
      "Invalid fuel type: Diesel. Only 'Hydrogen' fuel is allowed.\n",
      "Falcon refueled. Fuel level is now 100.\n"
     ]
    }
   ],
   "source": [
    "rocket = Rocket(\"Falcon\", 0, 0)\n",
    "try:\n",
    "    rocket.refuel(100, \"Diesel\")\n",
    "except FuelTypeException as e:\n",
    "    print(e)\n",
    "    rocket.refuel(100, \"Hydrogen\")"
   ]
  },
  {
   "cell_type": "code",
   "execution_count": 28,
   "id": "56a22d9b",
   "metadata": {
    "slideshow": {
     "slide_type": "slide"
    }
   },
   "outputs": [],
   "source": [
    "class FuelException(Exception):\n",
    "    def __str__(self):\n",
    "        return \"Something is wrong in the fuel system\"\n",
    "        \n",
    "class FuelTypeException(FuelException):\n",
    "    def __init__(self, fuel_type):\n",
    "        message = f\"Invalid fuel type: {fuel_type}. Only 'Hydrogen' fuel is allowed.\"\n",
    "        super().__init__(message)"
   ]
  },
  {
   "cell_type": "code",
   "execution_count": 29,
   "id": "6aaf28ee",
   "metadata": {},
   "outputs": [
    {
     "name": "stdout",
     "output_type": "stream",
     "text": [
      "Something is wrong in the fuel system\n"
     ]
    }
   ],
   "source": [
    "rocket = Rocket(\"Falcon\", 0, 0)\n",
    "try:\n",
    "    rocket.refuel(100, \"Diesel\")\n",
    "except FuelException as e:\n",
    "    print(e)\n",
    "except FuelTypeException as e:\n",
    "    print(e)\n",
    "    rocket.refuel(100, \"Hydrogen\")"
   ]
  },
  {
   "cell_type": "markdown",
   "id": "5a113937",
   "metadata": {
    "slideshow": {
     "slide_type": "slide"
    }
   },
   "source": [
    "## Explicit chained exceptions"
   ]
  },
  {
   "cell_type": "code",
   "execution_count": null,
   "id": "1e197555",
   "metadata": {
    "slideshow": {
     "slide_type": "subslide"
    }
   },
   "outputs": [],
   "source": [
    "class RocketNotReadyError(Exception):\n",
    "    pass\n",
    "\n",
    "\n",
    "def personnel_check():\n",
    "    try:\n",
    "        print(\"\\tThe captain's name is\", crew[0])\n",
    "        print(\"\\tThe pilot's name is\", crew[1])\n",
    "        print(\"\\tThe mechanic's name is\", crew[2])\n",
    "        print(\"\\tThe navigator's name is\", crew[3])\n",
    "    except IndexError as e:\n",
    "        raise RocketNotReadyError('Crew is incomplete') from e\n",
    "\n",
    "crew = ['John', 'Mary', 'Mike']\n",
    "print('Final check procedure')\n",
    "\n",
    "personnel_check()\n"
   ]
  },
  {
   "cell_type": "code",
   "execution_count": null,
   "id": "e7f8ff9d",
   "metadata": {
    "slideshow": {
     "slide_type": "subslide"
    }
   },
   "outputs": [],
   "source": [
    "try:\n",
    "    personnel_check()\n",
    "except RocketNotReadyError as f:\n",
    "    print('General exception: \"{}\", caused by \"{}\"'.format(f, f.__cause__))"
   ]
  },
  {
   "cell_type": "markdown",
   "id": "4027cac6",
   "metadata": {
    "slideshow": {
     "slide_type": "slide"
    }
   },
   "source": [
    "# Supressing errors"
   ]
  },
  {
   "cell_type": "code",
   "execution_count": 32,
   "id": "249c00ce",
   "metadata": {
    "slideshow": {
     "slide_type": "slide"
    }
   },
   "outputs": [
    {
     "name": "stdout",
     "output_type": "stream",
     "text": [
      "1.0\n",
      "0.3333333333333333\n",
      "0.25\n"
     ]
    }
   ],
   "source": [
    "# What if I don't care about an error? Can I just skip them?\n",
    "inputs = [1, 0, \"two\", 3, 4]\n",
    "\n",
    "def divide(a, b):\n",
    "    return a/b\n",
    "\n",
    "for value in inputs:\n",
    "    try:\n",
    "        print(divide(1, value))\n",
    "    except (ZeroDivisionError, TypeError) as e:\n",
    "        pass"
   ]
  },
  {
   "cell_type": "code",
   "execution_count": 37,
   "id": "21d6db1a",
   "metadata": {},
   "outputs": [
    {
     "name": "stdout",
     "output_type": "stream",
     "text": [
      "1.0\n",
      "0.3333333333333333\n",
      "0.25\n"
     ]
    }
   ],
   "source": [
    "from contextlib import suppress\n",
    "\n",
    "inputs = [1, 0, \"two\", 3, 4]\n",
    "\n",
    "def divide(a, b):\n",
    "    return a/b\n",
    "\n",
    "for value in inputs:\n",
    "    with suppress((ZeroDivisionError, TypeError)):\n",
    "        print(divide(1, value))"
   ]
  },
  {
   "cell_type": "code",
   "execution_count": null,
   "id": "c1c41ae4",
   "metadata": {},
   "outputs": [],
   "source": [
    "# give example with Rocket code\n",
    "\n",
    "# Low fuel error\n",
    "\n",
    "# Restart engine function\n",
    "# supress low fuel level error and try the restart anyway"
   ]
  }
 ],
 "metadata": {
  "celltoolbar": "Slideshow",
  "kernelspec": {
   "display_name": "Python 3 (ipykernel)",
   "language": "python",
   "name": "python3"
  },
  "language_info": {
   "codemirror_mode": {
    "name": "ipython",
    "version": 3
   },
   "file_extension": ".py",
   "mimetype": "text/x-python",
   "name": "python",
   "nbconvert_exporter": "python",
   "pygments_lexer": "ipython3",
   "version": "3.9.2"
  }
 },
 "nbformat": 4,
 "nbformat_minor": 5
}
