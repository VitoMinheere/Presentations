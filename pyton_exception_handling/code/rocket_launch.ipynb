{
 "cells": [
  {
   "cell_type": "markdown",
   "id": "dae4d4ac",
   "metadata": {
    "slideshow": {
     "slide_type": "slide"
    }
   },
   "source": [
    "## Error handling is boring but this is the Exception\n",
    "\n",
    "### Vito Minheere"
   ]
  },
  {
   "cell_type": "markdown",
   "id": "a743d59b",
   "metadata": {
    "slideshow": {
     "slide_type": "notes"
    }
   },
   "source": [
    "Codebeez meetup 17th of May\n",
    "\n",
    "Pygrunn 26th of May\n",
    "\n",
    "Submitted at EuroPython 19th until 21st of July"
   ]
  },
  {
   "cell_type": "markdown",
   "id": "efb9bc8d",
   "metadata": {
    "slideshow": {
     "slide_type": "slide"
    }
   },
   "source": [
    "# What is an Exception?"
   ]
  },
  {
   "cell_type": "code",
   "execution_count": 47,
   "id": "42f60d60",
   "metadata": {},
   "outputs": [
    {
     "ename": "TypeError",
     "evalue": "exceptions must derive from BaseException",
     "output_type": "error",
     "traceback": [
      "\u001b[0;31m---------------------------------------------------------------------------\u001b[0m",
      "\u001b[0;31mTypeError\u001b[0m                                 Traceback (most recent call last)",
      "Cell \u001b[0;32mIn[47], line 1\u001b[0m\n\u001b[0;32m----> 1\u001b[0m \u001b[38;5;28;01mraise\u001b[39;00m \u001b[38;5;124m\"\u001b[39m\u001b[38;5;124mException\u001b[39m\u001b[38;5;124m\"\u001b[39m\n",
      "\u001b[0;31mTypeError\u001b[0m: exceptions must derive from BaseException"
     ]
    }
   ],
   "source": [
    "raise \"Exception\""
   ]
  },
  {
   "cell_type": "markdown",
   "id": "803b60f5",
   "metadata": {
    "slideshow": {
     "slide_type": "notes"
    }
   },
   "source": [
    "An Exception is an object as many other things in Python. Exception extends the BaseException.\n",
    "\n",
    "Extend it to create other Exceptions with the same attributes\n",
    "\n",
    "Internal Python Exceptions should use BaseException, all others should use Exception\n",
    "\n"
   ]
  },
  {
   "cell_type": "markdown",
   "id": "d2f5a68b",
   "metadata": {
    "slideshow": {
     "slide_type": "subslide"
    }
   },
   "source": [
    "BaseException\n",
    " ├── BaseExceptionGroup\n",
    " ├── GeneratorExit\n",
    " ├── KeyboardInterrupt\n",
    " ├── SystemExit\n",
    " └── Exception\n",
    "      ├── ArithmeticError\n",
    "      │    ├── FloatingPointError\n",
    "      │    ├── OverflowError\n",
    "      │    └── ZeroDivisionError\n",
    "      ├── AssertionError\n",
    "      ├── AttributeError\n",
    "      ├── EOFError\n",
    "      ├── LookupError\n",
    "      │    ├── IndexError\n",
    "      │    └── KeyError"
   ]
  },
  {
   "cell_type": "markdown",
   "id": "b1b349c7",
   "metadata": {
    "slideshow": {
     "slide_type": "notes"
    }
   },
   "source": [
    "Built-in errors also have their hierarchy. \n",
    "\n",
    "Exception hierarchy can serve an important purpose: \n",
    "\n",
    "the user does not have to know all the specific exceptions "
   ]
  },
  {
   "cell_type": "code",
   "execution_count": 48,
   "id": "bec11708",
   "metadata": {
    "slideshow": {
     "slide_type": "slide"
    }
   },
   "outputs": [
    {
     "ename": "ZeroDivisionError",
     "evalue": "division by zero",
     "output_type": "error",
     "traceback": [
      "\u001b[0;31m---------------------------------------------------------------------------\u001b[0m",
      "\u001b[0;31mZeroDivisionError\u001b[0m                         Traceback (most recent call last)",
      "Cell \u001b[0;32mIn[48], line 1\u001b[0m\n\u001b[0;32m----> 1\u001b[0m \u001b[38;5;241;43m1\u001b[39;49m\u001b[43m \u001b[49m\u001b[38;5;241;43m/\u001b[39;49m\u001b[43m \u001b[49m\u001b[38;5;241;43m0\u001b[39;49m\n",
      "\u001b[0;31mZeroDivisionError\u001b[0m: division by zero"
     ]
    }
   ],
   "source": [
    "1 / 0"
   ]
  },
  {
   "cell_type": "code",
   "execution_count": 49,
   "id": "1a5c86ed",
   "metadata": {
    "slideshow": {
     "slide_type": "subslide"
    }
   },
   "outputs": [
    {
     "name": "stdout",
     "output_type": "stream",
     "text": [
      "Arithmetic Error raised\n"
     ]
    },
    {
     "ename": "ZeroDivisionError",
     "evalue": "division by zero",
     "output_type": "error",
     "traceback": [
      "\u001b[0;31m---------------------------------------------------------------------------\u001b[0m",
      "\u001b[0;31mZeroDivisionError\u001b[0m                         Traceback (most recent call last)",
      "Cell \u001b[0;32mIn[49], line 6\u001b[0m\n\u001b[1;32m      4\u001b[0m \u001b[38;5;28;01mexcept\u001b[39;00m \u001b[38;5;167;01mArithmeticError\u001b[39;00m \u001b[38;5;28;01mas\u001b[39;00m e:\n\u001b[1;32m      5\u001b[0m     \u001b[38;5;28mprint\u001b[39m(\u001b[38;5;124m\"\u001b[39m\u001b[38;5;124mArithmetic Error raised\u001b[39m\u001b[38;5;124m\"\u001b[39m)\n\u001b[0;32m----> 6\u001b[0m     \u001b[38;5;28;01mraise\u001b[39;00m e\n\u001b[1;32m      8\u001b[0m \u001b[38;5;28;01mexcept\u001b[39;00m \u001b[38;5;167;01mZeroDivisionError\u001b[39;00m \u001b[38;5;28;01mas\u001b[39;00m e:\n\u001b[1;32m      9\u001b[0m     \u001b[38;5;28mprint\u001b[39m(\u001b[38;5;124m\"\u001b[39m\u001b[38;5;124mZero Division raised\u001b[39m\u001b[38;5;124m\"\u001b[39m)\n",
      "Cell \u001b[0;32mIn[49], line 2\u001b[0m\n\u001b[1;32m      1\u001b[0m \u001b[38;5;28;01mtry\u001b[39;00m:\n\u001b[0;32m----> 2\u001b[0m     \u001b[38;5;241;43m1\u001b[39;49m\u001b[43m \u001b[49m\u001b[38;5;241;43m/\u001b[39;49m\u001b[43m \u001b[49m\u001b[38;5;241;43m0\u001b[39;49m\n\u001b[1;32m      4\u001b[0m \u001b[38;5;28;01mexcept\u001b[39;00m \u001b[38;5;167;01mArithmeticError\u001b[39;00m \u001b[38;5;28;01mas\u001b[39;00m e:\n\u001b[1;32m      5\u001b[0m     \u001b[38;5;28mprint\u001b[39m(\u001b[38;5;124m\"\u001b[39m\u001b[38;5;124mArithmetic Error raised\u001b[39m\u001b[38;5;124m\"\u001b[39m)\n",
      "\u001b[0;31mZeroDivisionError\u001b[0m: division by zero"
     ]
    }
   ],
   "source": [
    "try:\n",
    "    1 / 0\n",
    "    \n",
    "except ArithmeticError as e:\n",
    "    print(\"Arithmetic Error raised\")\n",
    "    raise e\n",
    "    \n",
    "except ZeroDivisionError as e:\n",
    "    print(\"Zero Division raised\")\n",
    "    raise e"
   ]
  },
  {
   "cell_type": "markdown",
   "id": "24f7b206",
   "metadata": {
    "slideshow": {
     "slide_type": "notes"
    }
   },
   "source": [
    "Arithmetic error is higher on the hierarchy than ZeroDivisionError\n"
   ]
  },
  {
   "cell_type": "code",
   "execution_count": 50,
   "id": "8971adb0",
   "metadata": {
    "slideshow": {
     "slide_type": "subslide"
    }
   },
   "outputs": [
    {
     "name": "stdout",
     "output_type": "stream",
     "text": [
      "Exception raised\n"
     ]
    }
   ],
   "source": [
    "try:\n",
    "    1 / 0\n",
    "    \n",
    "except Exception as e:\n",
    "    print(\"Exception raised\")\n",
    "    \n",
    "except ArithmeticError as e:\n",
    "    print(\"Arithmetic Error raised\")\n",
    "    raise e\n",
    "    \n",
    "except ZeroDivisionError as e:\n",
    "    print(\"Zero Division raised\")\n",
    "    raise e"
   ]
  },
  {
   "cell_type": "markdown",
   "id": "3c6cdb9e",
   "metadata": {
    "slideshow": {
     "slide_type": "notes"
    }
   },
   "source": [
    "except Exception is even higher and will be executed first\n"
   ]
  },
  {
   "cell_type": "code",
   "execution_count": 51,
   "id": "2b4cf4c4",
   "metadata": {
    "slideshow": {
     "slide_type": "subslide"
    }
   },
   "outputs": [
    {
     "name": "stdout",
     "output_type": "stream",
     "text": [
      "Exception raised\n"
     ]
    }
   ],
   "source": [
    "try:\n",
    "    thisssss_function_does_not_exist()\n",
    "    \n",
    "except Exception as e:\n",
    "    print(\"Exception raised\")\n",
    "    \n",
    "except ArithmeticError as e:\n",
    "    print(\"Arithmetic Error raised\")\n",
    "    raise e\n",
    "    \n",
    "except ZeroDivisionError as e:\n",
    "    print(\"Zero Division raised\")\n",
    "    raise e"
   ]
  },
  {
   "cell_type": "markdown",
   "id": "3762b05e",
   "metadata": {
    "slideshow": {
     "slide_type": "notes"
    }
   },
   "source": [
    "\n",
    "Be aware that Exception will also catch all other Exceptions derived from it\n",
    "\n",
    "Python is an interpreted language.\n",
    "Python uses Exceptions for both reporting errors while running the code and interpreting code. \n",
    "If you catch all Exceptions it will also catch NameErrors during interpreting"
   ]
  },
  {
   "cell_type": "code",
   "execution_count": 52,
   "id": "58fc35f0",
   "metadata": {
    "slideshow": {
     "slide_type": "subslide"
    }
   },
   "outputs": [
    {
     "name": "stdout",
     "output_type": "stream",
     "text": [
      "SystemExit caught by BaseException\n"
     ]
    }
   ],
   "source": [
    "import sys\n",
    "try:\n",
    "    sys.exit()\n",
    "    \n",
    "except Exception as e:\n",
    "    print(\"SystemExit caught\")\n",
    "    \n",
    "except BaseException as e:\n",
    "    print(\"SystemExit caught by BaseException\")  \n",
    "    \n",
    "except SystemExit as e:\n",
    "    print(\"Raised SystemExit\")"
   ]
  },
  {
   "cell_type": "markdown",
   "id": "432ca457",
   "metadata": {
    "slideshow": {
     "slide_type": "notes"
    }
   },
   "source": [
    "SystemExit is above Exception but extends BaseException"
   ]
  },
  {
   "cell_type": "markdown",
   "id": "6c5dee73",
   "metadata": {
    "slideshow": {
     "slide_type": "slide"
    }
   },
   "source": [
    "# NAASA, NASA As A Service\n",
    "\n",
    "\n",
    "#### Launch a rocket via a Python module. \n",
    "#### Rocket will be supplied. However we have BYOC - Bring Your Own Crew\n",
    "\n",
    "### No guarantees, only Exceptions"
   ]
  },
  {
   "cell_type": "markdown",
   "id": "527b7fa5",
   "metadata": {
    "slideshow": {
     "slide_type": "notes"
    }
   },
   "source": [
    "It is rocket science so a lot of things can go wrong. \n",
    "\n",
    "Before the launch you could exit your program and call it off if critical errors arise \n",
    "\n",
    "but you can’t just reset the rocket when it is in mid flight. \n",
    "\n",
    "In this case we are both the creator of the module and also the user.\n",
    "We will use a bit of defensive programming to make sure edge cases will be handled and the rocket will not crash. "
   ]
  },
  {
   "cell_type": "markdown",
   "id": "68ceda95",
   "metadata": {
    "slideshow": {
     "slide_type": "slide"
    }
   },
   "source": [
    "## The Rocket"
   ]
  },
  {
   "cell_type": "code",
   "execution_count": 56,
   "id": "aeeb411d",
   "metadata": {
    "slideshow": {
     "slide_type": "-"
    }
   },
   "outputs": [
    {
     "name": "stdout",
     "output_type": "stream",
     "text": [
      "Rocket Artemis 1 has 4 motors and is at an altitude of 0 meters\n"
     ]
    }
   ],
   "source": [
    "class Rocket:\n",
    "    def __init__(self, name):\n",
    "        self.name = name\n",
    "        self.altitude = 0\n",
    "        self.crew = []\n",
    "        self.fuel_tank = FuelTank(\"Hydrogen\", 100)\n",
    "        self.command_centre = CommandCentre()\n",
    "        self.engine = Engine(motors=4)\n",
    "        self.startup_completed = False\n",
    "        \n",
    "    def __str__(self):\n",
    "        return f\"Rocket {self.name} has {self.engine.motors} motors and is at an altitude of {self.altitude} meters\"\n",
    "        \n",
    "rocket = Rocket(\"Artemis 1\")\n",
    "print(rocket)"
   ]
  },
  {
   "cell_type": "code",
   "execution_count": 57,
   "id": "b8ada197",
   "metadata": {
    "slideshow": {
     "slide_type": "subslide"
    }
   },
   "outputs": [],
   "source": [
    "class FuelTank:\n",
    "    def __init__(self, fuel_type: str, max_volume: int) -> None:\n",
    "        self.fuel_type = fuel_type\n",
    "        self.volume = 0\n",
    "        self.max_volume = max_volume"
   ]
  },
  {
   "cell_type": "markdown",
   "id": "e2d5d373",
   "metadata": {
    "slideshow": {
     "slide_type": "slide"
    }
   },
   "source": [
    "# Custom Exceptions"
   ]
  },
  {
   "cell_type": "code",
   "execution_count": 81,
   "id": "c973c975",
   "metadata": {
    "slideshow": {
     "slide_type": "slide"
    }
   },
   "outputs": [
    {
     "ename": "FuelTankException",
     "evalue": "",
     "output_type": "error",
     "traceback": [
      "\u001b[0;31m---------------------------------------------------------------------------\u001b[0m",
      "\u001b[0;31mFuelTankException\u001b[0m                         Traceback (most recent call last)",
      "Cell \u001b[0;32mIn[81], line 4\u001b[0m\n\u001b[1;32m      1\u001b[0m \u001b[38;5;28;01mclass\u001b[39;00m \u001b[38;5;21;01mFuelTankException\u001b[39;00m(\u001b[38;5;167;01mException\u001b[39;00m):\n\u001b[1;32m      2\u001b[0m        \u001b[38;5;28;01mpass\u001b[39;00m\n\u001b[0;32m----> 4\u001b[0m \u001b[38;5;28;01mraise\u001b[39;00m FuelTankException\n",
      "\u001b[0;31mFuelTankException\u001b[0m: "
     ]
    }
   ],
   "source": [
    " class FuelTankException(Exception):\n",
    "        pass\n",
    "\n",
    "raise FuelTankException"
   ]
  },
  {
   "cell_type": "code",
   "execution_count": 85,
   "id": "e5839b56",
   "metadata": {
    "slideshow": {
     "slide_type": "subslide"
    }
   },
   "outputs": [
    {
     "ename": "FuelLevelException",
     "evalue": "Max amount of fuel to add is 3 liters",
     "output_type": "error",
     "traceback": [
      "\u001b[0;31m---------------------------------------------------------------------------\u001b[0m",
      "\u001b[0;31mFuelLevelException\u001b[0m                        Traceback (most recent call last)",
      "Cell \u001b[0;32mIn[85], line 15\u001b[0m\n\u001b[1;32m     12\u001b[0m         \u001b[38;5;28mself\u001b[39m\u001b[38;5;241m.\u001b[39mvalue \u001b[38;5;241m=\u001b[39m amount_left_to_fill\n\u001b[1;32m     13\u001b[0m         \u001b[38;5;28msuper\u001b[39m()\u001b[38;5;241m.\u001b[39m\u001b[38;5;21m__init__\u001b[39m(message)\n\u001b[0;32m---> 15\u001b[0m \u001b[38;5;28;01mraise\u001b[39;00m FuelLevelException(\u001b[38;5;241m10\u001b[39m, \u001b[38;5;241m7\u001b[39m)\n",
      "\u001b[0;31mFuelLevelException\u001b[0m: Max amount of fuel to add is 3 liters"
     ]
    }
   ],
   "source": [
    "class FuelTypeException(FuelTankException):\n",
    "    \n",
    "    def __init__(self, fuel_type, allowed_fuel):\n",
    "        message = f\"Invalid fuel type: {fuel_type}. Only '{allowed_fuel}' fuel is allowed.\"\n",
    "        super().__init__(message)\n",
    "\n",
    "class FuelLevelException(FuelTankException):  \n",
    "    \n",
    "    def __init__(self, max_volume, volume):\n",
    "        amount_left_to_fill = max_volume - volume\n",
    "        message = f\"Max amount of fuel to add is {str(amount_left_to_fill)} liters\" \n",
    "        self.value = amount_left_to_fill\n",
    "        super().__init__(message)\n",
    "\n",
    "raise FuelLevelException(10, 7)"
   ]
  },
  {
   "cell_type": "code",
   "execution_count": 86,
   "id": "03198916",
   "metadata": {
    "slideshow": {
     "slide_type": "subslide"
    }
   },
   "outputs": [],
   "source": [
    "def refuel(self, fuel_type, amount):\n",
    "    if fuel_type != self.fuel_type:\n",
    "        raise FuelTypeException(fuel_type)\n",
    "        \n",
    "    elif (self.volume + amount) > self.max_volume:\n",
    "        raise FuelLevelException(self.max_volume, self.volume)\n",
    "        \n",
    "    else:\n",
    "        self.volume += amount\n",
    "        print(f\"Fuel tank refueled. Fuel level is now {self.volume} liter.\")"
   ]
  },
  {
   "cell_type": "markdown",
   "id": "1d250a98",
   "metadata": {
    "slideshow": {
     "slide_type": "notes"
    }
   },
   "source": [
    "Build a hierarchy in the custom exceptions. FuelException will be caught before FuelTankException when both are in the except clause.\n",
    "\n"
   ]
  },
  {
   "cell_type": "code",
   "execution_count": 87,
   "id": "c85f7af4",
   "metadata": {
    "slideshow": {
     "slide_type": "slide"
    }
   },
   "outputs": [
    {
     "ename": "FuelTypeException",
     "evalue": "Invalid fuel type: Diesel. Only 'Hydrogen' fuel is allowed.",
     "output_type": "error",
     "traceback": [
      "\u001b[0;31m---------------------------------------------------------------------------\u001b[0m",
      "\u001b[0;31mFuelTypeException\u001b[0m                         Traceback (most recent call last)",
      "Cell \u001b[0;32mIn[87], line 2\u001b[0m\n\u001b[1;32m      1\u001b[0m \u001b[38;5;28;01mtry\u001b[39;00m:\n\u001b[0;32m----> 2\u001b[0m     \u001b[43mrocket\u001b[49m\u001b[38;5;241;43m.\u001b[39;49m\u001b[43mfuel_tank\u001b[49m\u001b[38;5;241;43m.\u001b[39;49m\u001b[43mrefuel\u001b[49m\u001b[43m(\u001b[49m\u001b[38;5;124;43m\"\u001b[39;49m\u001b[38;5;124;43mDiesel\u001b[39;49m\u001b[38;5;124;43m\"\u001b[39;49m\u001b[43m,\u001b[49m\u001b[43m \u001b[49m\u001b[38;5;241;43m100\u001b[39;49m\u001b[43m)\u001b[49m\n\u001b[1;32m      4\u001b[0m \u001b[38;5;28;01mexcept\u001b[39;00m FuelTankException \u001b[38;5;28;01mas\u001b[39;00m e:\n\u001b[1;32m      5\u001b[0m     \u001b[38;5;28mprint\u001b[39m(\u001b[38;5;124m\"\u001b[39m\u001b[38;5;124mFuelTankException\u001b[39m\u001b[38;5;124m\"\u001b[39m)\n",
      "File \u001b[0;32m~/Developer/Presentations/pyton_exception_handling/code/classes/fuel_tank.py:43\u001b[0m, in \u001b[0;36mFuelTank.refuel\u001b[0;34m(self, fuel_type, amount)\u001b[0m\n\u001b[1;32m     32\u001b[0m \u001b[38;5;250m\u001b[39m\u001b[38;5;124;03m\"\"\"_summary_\u001b[39;00m\n\u001b[1;32m     33\u001b[0m \n\u001b[1;32m     34\u001b[0m \u001b[38;5;124;03mArgs:\u001b[39;00m\n\u001b[0;32m   (...)\u001b[0m\n\u001b[1;32m     40\u001b[0m \u001b[38;5;124;03m    FuelLevelException: If the amount of fuel to add would overflow the tank\u001b[39;00m\n\u001b[1;32m     41\u001b[0m \u001b[38;5;124;03m\"\"\"\u001b[39;00m        \n\u001b[1;32m     42\u001b[0m \u001b[38;5;28;01mif\u001b[39;00m fuel_type \u001b[38;5;241m!=\u001b[39m \u001b[38;5;28mself\u001b[39m\u001b[38;5;241m.\u001b[39mfuel_type:\n\u001b[0;32m---> 43\u001b[0m     \u001b[38;5;28;01mraise\u001b[39;00m FuelTypeException(fuel_type)\n\u001b[1;32m     44\u001b[0m \u001b[38;5;28;01melif\u001b[39;00m (\u001b[38;5;28mself\u001b[39m\u001b[38;5;241m.\u001b[39mvolume \u001b[38;5;241m+\u001b[39m amount) \u001b[38;5;241m>\u001b[39m \u001b[38;5;28mself\u001b[39m\u001b[38;5;241m.\u001b[39mmax_volume:\n\u001b[1;32m     45\u001b[0m     \u001b[38;5;28;01mraise\u001b[39;00m FuelLevelException(\u001b[38;5;28mself\u001b[39m\u001b[38;5;241m.\u001b[39mmax_volume, \u001b[38;5;28mself\u001b[39m\u001b[38;5;241m.\u001b[39mvolume)\n",
      "\u001b[0;31mFuelTypeException\u001b[0m: Invalid fuel type: Diesel. Only 'Hydrogen' fuel is allowed."
     ]
    }
   ],
   "source": [
    "try:\n",
    "    rocket.fuel_tank.refuel(\"Diesel\", 100)\n",
    "    \n",
    "except FuelTankException as e:\n",
    "    print(\"FuelTankException\")\n",
    "    print(e)\n",
    "    raise e\n",
    "    \n",
    "except FuelTypeException as e:\n",
    "    print(\"FuelTypeException\")\n",
    "    print(e)"
   ]
  },
  {
   "cell_type": "markdown",
   "id": "b0159d9b",
   "metadata": {
    "slideshow": {
     "slide_type": "notes"
    }
   },
   "source": [
    "Due to the hierarchy the base FuelTankException can be caught first. \n",
    "\n",
    "When you reraise the Exception it shows the FuelTypeException.\n",
    "\n",
    "End users of our module can put it as the last except block to catch any errors they might have missed."
   ]
  },
  {
   "cell_type": "code",
   "execution_count": 88,
   "id": "6f98ee63",
   "metadata": {},
   "outputs": [
    {
     "ename": "FuelTypeException",
     "evalue": "Invalid fuel type: Diesel. Only 'Hydrogen' fuel is allowed.",
     "output_type": "error",
     "traceback": [
      "\u001b[0;31m---------------------------------------------------------------------------\u001b[0m",
      "\u001b[0;31mFuelTypeException\u001b[0m                         Traceback (most recent call last)",
      "Cell \u001b[0;32mIn[88], line 2\u001b[0m\n\u001b[1;32m      1\u001b[0m \u001b[38;5;28;01mtry\u001b[39;00m:\n\u001b[0;32m----> 2\u001b[0m     \u001b[43mrocket\u001b[49m\u001b[38;5;241;43m.\u001b[39;49m\u001b[43mfuel_tank\u001b[49m\u001b[38;5;241;43m.\u001b[39;49m\u001b[43mrefuel\u001b[49m\u001b[43m(\u001b[49m\u001b[38;5;124;43m\"\u001b[39;49m\u001b[38;5;124;43mDiesel\u001b[39;49m\u001b[38;5;124;43m\"\u001b[39;49m\u001b[43m,\u001b[49m\u001b[43m \u001b[49m\u001b[38;5;241;43m100\u001b[39;49m\u001b[43m)\u001b[49m\n\u001b[1;32m      4\u001b[0m \u001b[38;5;28;01mexcept\u001b[39;00m FuelLevelException \u001b[38;5;28;01mas\u001b[39;00m e:\n\u001b[1;32m      5\u001b[0m     \u001b[38;5;28mprint\u001b[39m(\u001b[38;5;124m\"\u001b[39m\u001b[38;5;124mFuelLevelException\u001b[39m\u001b[38;5;124m\"\u001b[39m)\n",
      "File \u001b[0;32m~/Developer/Presentations/pyton_exception_handling/code/classes/fuel_tank.py:43\u001b[0m, in \u001b[0;36mFuelTank.refuel\u001b[0;34m(self, fuel_type, amount)\u001b[0m\n\u001b[1;32m     32\u001b[0m \u001b[38;5;250m\u001b[39m\u001b[38;5;124;03m\"\"\"_summary_\u001b[39;00m\n\u001b[1;32m     33\u001b[0m \n\u001b[1;32m     34\u001b[0m \u001b[38;5;124;03mArgs:\u001b[39;00m\n\u001b[0;32m   (...)\u001b[0m\n\u001b[1;32m     40\u001b[0m \u001b[38;5;124;03m    FuelLevelException: If the amount of fuel to add would overflow the tank\u001b[39;00m\n\u001b[1;32m     41\u001b[0m \u001b[38;5;124;03m\"\"\"\u001b[39;00m        \n\u001b[1;32m     42\u001b[0m \u001b[38;5;28;01mif\u001b[39;00m fuel_type \u001b[38;5;241m!=\u001b[39m \u001b[38;5;28mself\u001b[39m\u001b[38;5;241m.\u001b[39mfuel_type:\n\u001b[0;32m---> 43\u001b[0m     \u001b[38;5;28;01mraise\u001b[39;00m FuelTypeException(fuel_type)\n\u001b[1;32m     44\u001b[0m \u001b[38;5;28;01melif\u001b[39;00m (\u001b[38;5;28mself\u001b[39m\u001b[38;5;241m.\u001b[39mvolume \u001b[38;5;241m+\u001b[39m amount) \u001b[38;5;241m>\u001b[39m \u001b[38;5;28mself\u001b[39m\u001b[38;5;241m.\u001b[39mmax_volume:\n\u001b[1;32m     45\u001b[0m     \u001b[38;5;28;01mraise\u001b[39;00m FuelLevelException(\u001b[38;5;28mself\u001b[39m\u001b[38;5;241m.\u001b[39mmax_volume, \u001b[38;5;28mself\u001b[39m\u001b[38;5;241m.\u001b[39mvolume)\n",
      "\u001b[0;31mFuelTypeException\u001b[0m: Invalid fuel type: Diesel. Only 'Hydrogen' fuel is allowed."
     ]
    }
   ],
   "source": [
    "try:\n",
    "    rocket.fuel_tank.refuel(\"Diesel\", 100)\n",
    "    \n",
    "except FuelLevelException as e:\n",
    "    print(\"FuelLevelException\")\n",
    "    print(e)\n",
    "    raise e\n",
    "    \n",
    "except FuelTankException as e:\n",
    "    print(\"FuelTankException\")\n",
    "    print(e)\n",
    "    raise"
   ]
  },
  {
   "cell_type": "markdown",
   "id": "40d2df96",
   "metadata": {
    "slideshow": {
     "slide_type": "slide"
    }
   },
   "source": [
    "## But we \"own\" both the Rocket and the FuelTank"
   ]
  },
  {
   "cell_type": "markdown",
   "id": "63145d32",
   "metadata": {
    "slideshow": {
     "slide_type": "notes"
    }
   },
   "source": [
    "Since we wrote both Rocket and FuelTank and they only communicate with each other in this scenario. Why not let our system fix itself instead of sending Exceptions and inputs back and forth?"
   ]
  },
  {
   "cell_type": "code",
   "execution_count": null,
   "id": "a5ad4640",
   "metadata": {
    "slideshow": {
     "slide_type": "slide"
    }
   },
   "outputs": [],
   "source": [
    "def refuel(self, fuel_type, amount):\n",
    "    try:\n",
    "        self.fuel_tank.refuel(fuel_type, amount)\n",
    "        \n",
    "    except FuelTypeException as e:\n",
    "        print(\"Switching to correct fuel and retrying\")\n",
    "        self.refuel(self.fuel_tank.fuel_type, amount)\n",
    "        \n",
    "    except FuelLevelException as e:\n",
    "        print(\"Setting correct fuel amount and retrying\")\n",
    "        self.refuel(fuel_type, e.value)\n",
    "        \n",
    "    else:\n",
    "        print(f\"{self.name} refueled.\")\n",
    "        \n",
    "rocket.refuel(\"Diesel\", 1000)"
   ]
  },
  {
   "cell_type": "markdown",
   "id": "5a113937",
   "metadata": {
    "slideshow": {
     "slide_type": "slide"
    }
   },
   "source": [
    "## Explicit chained exceptions"
   ]
  },
  {
   "cell_type": "code",
   "execution_count": null,
   "id": "b726eb95",
   "metadata": {
    "slideshow": {
     "slide_type": "slide"
    }
   },
   "outputs": [],
   "source": [
    "class Rocket:\n",
    "    def __init__(self, name):\n",
    "        self.name = name\n",
    "        self.altitude = 0\n",
    "        self.crew = []\n",
    "        self.fuel_tank = FuelTank(\"Hydrogen\", 100)\n",
    "        self.command_centre = CommandCentre()\n",
    "        self.engine = Engine(motors=4)\n",
    "        self.startup_completed = False"
   ]
  },
  {
   "cell_type": "markdown",
   "id": "be078285",
   "metadata": {
    "slideshow": {
     "slide_type": "notes"
    }
   },
   "source": [
    "As we saw earlier the Rocket class had an attribute called startup_completed. \n",
    "This could indicate a series of checks that have to be completed before being able to launch."
   ]
  },
  {
   "cell_type": "code",
   "execution_count": 109,
   "id": "1e197555",
   "metadata": {
    "slideshow": {
     "slide_type": "subslide"
    }
   },
   "outputs": [
    {
     "name": "stdout",
     "output_type": "stream",
     "text": [
      "Alice is ready\n",
      "Bob is not ready\n",
      "Carol is ready\n"
     ]
    }
   ],
   "source": [
    "class Crew:\n",
    "    def __init__(self, name, ready=False):\n",
    "        self.name = name\n",
    "        self.ready = ready\n",
    "        \n",
    "    def __str__(self):\n",
    "        return f\"{self.name} is {'ready' if self.ready else 'not ready'}\"\n",
    "        \n",
    "crew = [Crew(\"Alice\", True), Crew(\"Bob\")]\n",
    "backup_crew = [Crew(\"Carol\", True)]\n",
    "\n",
    "for member in crew:\n",
    "    print(member)\n",
    "\n",
    "for member in backup_crew:\n",
    "    print(member)\n",
    "\n"
   ]
  },
  {
   "cell_type": "code",
   "execution_count": 90,
   "id": "bba9defd",
   "metadata": {
    "slideshow": {
     "slide_type": "slide"
    }
   },
   "outputs": [
    {
     "name": "stdout",
     "output_type": "stream",
     "text": [
      "Final check procedure\n",
      "\tThe captain's name is Alice\n",
      "\tThe pilot's name is Bob\n"
     ]
    },
    {
     "ename": "RocketNotReadyError",
     "evalue": "Crew is incomplete",
     "output_type": "error",
     "traceback": [
      "\u001b[0;31m---------------------------------------------------------------------------\u001b[0m",
      "\u001b[0;31mIndexError\u001b[0m                                Traceback (most recent call last)",
      "Cell \u001b[0;32mIn[90], line 9\u001b[0m, in \u001b[0;36mpersonnel_check\u001b[0;34m()\u001b[0m\n\u001b[1;32m      8\u001b[0m     \u001b[38;5;28mprint\u001b[39m(\u001b[38;5;124m\"\u001b[39m\u001b[38;5;130;01m\\t\u001b[39;00m\u001b[38;5;124mThe pilot\u001b[39m\u001b[38;5;124m'\u001b[39m\u001b[38;5;124ms name is\u001b[39m\u001b[38;5;124m\"\u001b[39m, crew[\u001b[38;5;241m1\u001b[39m]\u001b[38;5;241m.\u001b[39mname)\n\u001b[0;32m----> 9\u001b[0m     \u001b[38;5;28mprint\u001b[39m(\u001b[38;5;124m\"\u001b[39m\u001b[38;5;130;01m\\t\u001b[39;00m\u001b[38;5;124mThe mechanic\u001b[39m\u001b[38;5;124m'\u001b[39m\u001b[38;5;124ms name is\u001b[39m\u001b[38;5;124m\"\u001b[39m, \u001b[43mcrew\u001b[49m\u001b[43m[\u001b[49m\u001b[38;5;241;43m2\u001b[39;49m\u001b[43m]\u001b[49m\u001b[38;5;241m.\u001b[39mname)\n\u001b[1;32m     10\u001b[0m \u001b[38;5;28;01mexcept\u001b[39;00m \u001b[38;5;167;01mIndexError\u001b[39;00m \u001b[38;5;28;01mas\u001b[39;00m e:\n",
      "\u001b[0;31mIndexError\u001b[0m: list index out of range",
      "\nThe above exception was the direct cause of the following exception:\n",
      "\u001b[0;31mRocketNotReadyError\u001b[0m                       Traceback (most recent call last)",
      "Cell \u001b[0;32mIn[90], line 15\u001b[0m\n\u001b[1;32m     11\u001b[0m         \u001b[38;5;28;01mraise\u001b[39;00m RocketNotReadyError(\u001b[38;5;124m'\u001b[39m\u001b[38;5;124mCrew is incomplete\u001b[39m\u001b[38;5;124m'\u001b[39m) \u001b[38;5;28;01mfrom\u001b[39;00m \u001b[38;5;21;01me\u001b[39;00m\n\u001b[1;32m     13\u001b[0m \u001b[38;5;28mprint\u001b[39m(\u001b[38;5;124m'\u001b[39m\u001b[38;5;124mFinal check procedure\u001b[39m\u001b[38;5;124m'\u001b[39m)\n\u001b[0;32m---> 15\u001b[0m \u001b[43mpersonnel_check\u001b[49m\u001b[43m(\u001b[49m\u001b[43m)\u001b[49m\n",
      "Cell \u001b[0;32mIn[90], line 11\u001b[0m, in \u001b[0;36mpersonnel_check\u001b[0;34m()\u001b[0m\n\u001b[1;32m      9\u001b[0m     \u001b[38;5;28mprint\u001b[39m(\u001b[38;5;124m\"\u001b[39m\u001b[38;5;130;01m\\t\u001b[39;00m\u001b[38;5;124mThe mechanic\u001b[39m\u001b[38;5;124m'\u001b[39m\u001b[38;5;124ms name is\u001b[39m\u001b[38;5;124m\"\u001b[39m, crew[\u001b[38;5;241m2\u001b[39m]\u001b[38;5;241m.\u001b[39mname)\n\u001b[1;32m     10\u001b[0m \u001b[38;5;28;01mexcept\u001b[39;00m \u001b[38;5;167;01mIndexError\u001b[39;00m \u001b[38;5;28;01mas\u001b[39;00m e:\n\u001b[0;32m---> 11\u001b[0m     \u001b[38;5;28;01mraise\u001b[39;00m RocketNotReadyError(\u001b[38;5;124m'\u001b[39m\u001b[38;5;124mCrew is incomplete\u001b[39m\u001b[38;5;124m'\u001b[39m) \u001b[38;5;28;01mfrom\u001b[39;00m \u001b[38;5;21;01me\u001b[39;00m\n",
      "\u001b[0;31mRocketNotReadyError\u001b[0m: Crew is incomplete"
     ]
    }
   ],
   "source": [
    "\n",
    "class RocketNotReadyError(Exception):\n",
    "    pass\n",
    "\n",
    "\n",
    "def personnel_check():\n",
    "    try:\n",
    "        print(\"\\tThe captain's name is\", crew[0].name)\n",
    "        print(\"\\tThe pilot's name is\", crew[1].name)\n",
    "        print(\"\\tThe mechanic's name is\", crew[2].name)\n",
    "    except IndexError as e:\n",
    "        raise RocketNotReadyError('Crew is incomplete') from e\n",
    "\n",
    "print('Final check procedure')\n",
    "\n",
    "personnel_check()"
   ]
  },
  {
   "cell_type": "markdown",
   "id": "d533f5bb",
   "metadata": {
    "slideshow": {
     "slide_type": "notes"
    }
   },
   "source": [
    "An Exception can be caught and reraised again in the except clause\n",
    "\n",
    "You can also use raise from to raise a new Exception but keep the old one in the stack trace"
   ]
  },
  {
   "cell_type": "code",
   "execution_count": 116,
   "id": "3ee11903",
   "metadata": {},
   "outputs": [
    {
     "name": "stdout",
     "output_type": "stream",
     "text": [
      "Final check procedure\n",
      "\tThe captain's name is Alice\n",
      "\tThe pilot's name is Bob\n",
      "Missing crew member, adding backup crew\n",
      "\tThe captain's name is Alice\n",
      "\tThe pilot's name is Bob\n",
      "\tThe mechanic's name is Carol\n",
      "Missing crew member, adding backup crew\n",
      "General exception: \"Crew is incomplete\", caused by \"pop from empty list\"\n"
     ]
    },
    {
     "ename": "Exception",
     "evalue": "Can't launch Rocket today",
     "output_type": "error",
     "traceback": [
      "\u001b[0;31m---------------------------------------------------------------------------\u001b[0m",
      "\u001b[0;31mIndexError\u001b[0m                                Traceback (most recent call last)",
      "Cell \u001b[0;32mIn[116], line 8\u001b[0m, in \u001b[0;36mpersonnel_check\u001b[0;34m()\u001b[0m\n\u001b[1;32m      7\u001b[0m \u001b[38;5;28mprint\u001b[39m(\u001b[38;5;124m\"\u001b[39m\u001b[38;5;130;01m\\t\u001b[39;00m\u001b[38;5;124mThe pilot\u001b[39m\u001b[38;5;124m'\u001b[39m\u001b[38;5;124ms name is\u001b[39m\u001b[38;5;124m\"\u001b[39m, crew[\u001b[38;5;241m1\u001b[39m]\u001b[38;5;241m.\u001b[39mname)\n\u001b[0;32m----> 8\u001b[0m \u001b[38;5;28mprint\u001b[39m(\u001b[38;5;124m\"\u001b[39m\u001b[38;5;130;01m\\t\u001b[39;00m\u001b[38;5;124mThe mechanic\u001b[39m\u001b[38;5;124m'\u001b[39m\u001b[38;5;124ms name is\u001b[39m\u001b[38;5;124m\"\u001b[39m, \u001b[43mcrew\u001b[49m\u001b[43m[\u001b[49m\u001b[38;5;241;43m2\u001b[39;49m\u001b[43m]\u001b[49m\u001b[38;5;241m.\u001b[39mname)\n\u001b[1;32m      9\u001b[0m \u001b[38;5;28mprint\u001b[39m(\u001b[38;5;124m\"\u001b[39m\u001b[38;5;130;01m\\t\u001b[39;00m\u001b[38;5;124mThe engineer\u001b[39m\u001b[38;5;124m'\u001b[39m\u001b[38;5;124ms name is\u001b[39m\u001b[38;5;124m\"\u001b[39m, crew[\u001b[38;5;241m3\u001b[39m]\u001b[38;5;241m.\u001b[39mname)\n",
      "\u001b[0;31mIndexError\u001b[0m: list index out of range",
      "\nDuring handling of the above exception, another exception occurred:\n",
      "\u001b[0;31mIndexError\u001b[0m                                Traceback (most recent call last)",
      "Cell \u001b[0;32mIn[116], line 9\u001b[0m, in \u001b[0;36mpersonnel_check\u001b[0;34m()\u001b[0m\n\u001b[1;32m      8\u001b[0m     \u001b[38;5;28mprint\u001b[39m(\u001b[38;5;124m\"\u001b[39m\u001b[38;5;130;01m\\t\u001b[39;00m\u001b[38;5;124mThe mechanic\u001b[39m\u001b[38;5;124m'\u001b[39m\u001b[38;5;124ms name is\u001b[39m\u001b[38;5;124m\"\u001b[39m, crew[\u001b[38;5;241m2\u001b[39m]\u001b[38;5;241m.\u001b[39mname)\n\u001b[0;32m----> 9\u001b[0m     \u001b[38;5;28mprint\u001b[39m(\u001b[38;5;124m\"\u001b[39m\u001b[38;5;130;01m\\t\u001b[39;00m\u001b[38;5;124mThe engineer\u001b[39m\u001b[38;5;124m'\u001b[39m\u001b[38;5;124ms name is\u001b[39m\u001b[38;5;124m\"\u001b[39m, \u001b[43mcrew\u001b[49m\u001b[43m[\u001b[49m\u001b[38;5;241;43m3\u001b[39;49m\u001b[43m]\u001b[49m\u001b[38;5;241m.\u001b[39mname)\n\u001b[1;32m     11\u001b[0m \u001b[38;5;28;01mexcept\u001b[39;00m \u001b[38;5;167;01mIndexError\u001b[39;00m \u001b[38;5;28;01mas\u001b[39;00m e:\n",
      "\u001b[0;31mIndexError\u001b[0m: list index out of range",
      "\nDuring handling of the above exception, another exception occurred:\n",
      "\u001b[0;31mIndexError\u001b[0m                                Traceback (most recent call last)",
      "Cell \u001b[0;32mIn[116], line 14\u001b[0m, in \u001b[0;36mpersonnel_check\u001b[0;34m()\u001b[0m\n\u001b[1;32m     13\u001b[0m \u001b[38;5;28;01mtry\u001b[39;00m:\n\u001b[0;32m---> 14\u001b[0m     crew\u001b[38;5;241m.\u001b[39mappend(\u001b[43mbackup_crew\u001b[49m\u001b[38;5;241;43m.\u001b[39;49m\u001b[43mpop\u001b[49m\u001b[43m(\u001b[49m\u001b[43m)\u001b[49m)\n\u001b[1;32m     15\u001b[0m     personnel_check()\n",
      "\u001b[0;31mIndexError\u001b[0m: pop from empty list",
      "\nThe above exception was the direct cause of the following exception:\n",
      "\u001b[0;31mRocketNotReadyError\u001b[0m                       Traceback (most recent call last)",
      "Cell \u001b[0;32mIn[116], line 22\u001b[0m\n\u001b[1;32m     21\u001b[0m     \u001b[38;5;28mprint\u001b[39m(\u001b[38;5;124m'\u001b[39m\u001b[38;5;124mFinal check procedure\u001b[39m\u001b[38;5;124m'\u001b[39m)\n\u001b[0;32m---> 22\u001b[0m     \u001b[43mpersonnel_check\u001b[49m\u001b[43m(\u001b[49m\u001b[43m)\u001b[49m\n\u001b[1;32m     23\u001b[0m \u001b[38;5;28;01mexcept\u001b[39;00m RocketNotReadyError \u001b[38;5;28;01mas\u001b[39;00m f:\n",
      "Cell \u001b[0;32mIn[116], line 15\u001b[0m, in \u001b[0;36mpersonnel_check\u001b[0;34m()\u001b[0m\n\u001b[1;32m     14\u001b[0m     crew\u001b[38;5;241m.\u001b[39mappend(backup_crew\u001b[38;5;241m.\u001b[39mpop())\n\u001b[0;32m---> 15\u001b[0m     \u001b[43mpersonnel_check\u001b[49m\u001b[43m(\u001b[49m\u001b[43m)\u001b[49m\n\u001b[1;32m     16\u001b[0m \u001b[38;5;28;01mexcept\u001b[39;00m \u001b[38;5;167;01mIndexError\u001b[39;00m \u001b[38;5;28;01mas\u001b[39;00m e:\n",
      "Cell \u001b[0;32mIn[116], line 17\u001b[0m, in \u001b[0;36mpersonnel_check\u001b[0;34m()\u001b[0m\n\u001b[1;32m     16\u001b[0m \u001b[38;5;28;01mexcept\u001b[39;00m \u001b[38;5;167;01mIndexError\u001b[39;00m \u001b[38;5;28;01mas\u001b[39;00m e:\n\u001b[0;32m---> 17\u001b[0m     \u001b[38;5;28;01mraise\u001b[39;00m RocketNotReadyError(\u001b[38;5;124m'\u001b[39m\u001b[38;5;124mCrew is incomplete\u001b[39m\u001b[38;5;124m'\u001b[39m) \u001b[38;5;28;01mfrom\u001b[39;00m \u001b[38;5;21;01me\u001b[39;00m\n",
      "\u001b[0;31mRocketNotReadyError\u001b[0m: Crew is incomplete",
      "\nThe above exception was the direct cause of the following exception:\n",
      "\u001b[0;31mException\u001b[0m                                 Traceback (most recent call last)",
      "Cell \u001b[0;32mIn[116], line 25\u001b[0m\n\u001b[1;32m     23\u001b[0m \u001b[38;5;28;01mexcept\u001b[39;00m RocketNotReadyError \u001b[38;5;28;01mas\u001b[39;00m f:\n\u001b[1;32m     24\u001b[0m     \u001b[38;5;28mprint\u001b[39m(\u001b[38;5;124m'\u001b[39m\u001b[38;5;124mGeneral exception: \u001b[39m\u001b[38;5;124m\"\u001b[39m\u001b[38;5;132;01m{}\u001b[39;00m\u001b[38;5;124m\"\u001b[39m\u001b[38;5;124m, caused by \u001b[39m\u001b[38;5;124m\"\u001b[39m\u001b[38;5;132;01m{}\u001b[39;00m\u001b[38;5;124m\"\u001b[39m\u001b[38;5;124m'\u001b[39m\u001b[38;5;241m.\u001b[39mformat(f, f\u001b[38;5;241m.\u001b[39m__cause__))\n\u001b[0;32m---> 25\u001b[0m     \u001b[38;5;28;01mraise\u001b[39;00m \u001b[38;5;167;01mException\u001b[39;00m(\u001b[38;5;124m\"\u001b[39m\u001b[38;5;124mCan\u001b[39m\u001b[38;5;124m'\u001b[39m\u001b[38;5;124mt launch Rocket today\u001b[39m\u001b[38;5;124m\"\u001b[39m) \u001b[38;5;28;01mfrom\u001b[39;00m \u001b[38;5;21;01mf\u001b[39;00m\n",
      "\u001b[0;31mException\u001b[0m: Can't launch Rocket today"
     ]
    }
   ],
   "source": [
    "crew = [Crew(\"Alice\", True), Crew(\"Bob\")]\n",
    "backup_crew = [Crew(\"Carol\", True)]\n",
    "\n",
    "def personnel_check():\n",
    "    try:\n",
    "        print(\"\\tThe captain's name is\", crew[0].name)\n",
    "        print(\"\\tThe pilot's name is\", crew[1].name)\n",
    "        print(\"\\tThe mechanic's name is\", crew[2].name)\n",
    "        print(\"\\tThe engineer's name is\", crew[3].name)\n",
    "\n",
    "    except IndexError as e:\n",
    "        print(\"Missing crew member, adding backup crew\")\n",
    "        try:\n",
    "            crew.append(backup_crew.pop())\n",
    "            personnel_check()\n",
    "        except IndexError as e:\n",
    "            raise RocketNotReadyError('Crew is incomplete') from e\n",
    "\n",
    "\n",
    "try:\n",
    "    print('Final check procedure')\n",
    "    personnel_check()\n",
    "except RocketNotReadyError as f:\n",
    "    print('General exception: \"{}\", caused by \"{}\"'.format(f, f.__cause__))\n",
    "    raise Exception(\"Can't launch Rocket today\") from f\n"
   ]
  },
  {
   "cell_type": "markdown",
   "id": "0e82f214",
   "metadata": {
    "slideshow": {
     "slide_type": "notes"
    }
   },
   "source": [
    "The raise from can be extended again in another try except\n",
    "\n",
    "The Exception will travel up the chain to where it wil be caught\n",
    "\n",
    "See the traceback in the slide"
   ]
  },
  {
   "cell_type": "markdown",
   "id": "70af4767",
   "metadata": {
    "slideshow": {
     "slide_type": "slide"
    }
   },
   "source": [
    "## Creating a checklist"
   ]
  },
  {
   "cell_type": "code",
   "execution_count": 119,
   "id": "587accda",
   "metadata": {
    "slideshow": {
     "slide_type": "-"
    }
   },
   "outputs": [
    {
     "name": "stdout",
     "output_type": "stream",
     "text": [
      "Switching to correct fuel and retrying\n",
      "Setting correct fuel amount and retrying\n",
      "Fuel tank refueled. Fuel level is now 100 liter.\n",
      "Artmis 2 refueled.\n",
      "Communication works\n",
      "Found something wrong, startup halted!\n",
      "Completed startup check procedure\n"
     ]
    },
    {
     "ename": "StartUpAbort",
     "evalue": "",
     "output_type": "error",
     "traceback": [
      "\u001b[0;31m---------------------------------------------------------------------------\u001b[0m",
      "\u001b[0;31mIgnitionException\u001b[0m                         Traceback (most recent call last)",
      "File \u001b[0;32m~/Developer/Presentations/pyton_exception_handling/code/classes/rocket.py:59\u001b[0m, in \u001b[0;36mRocket.check_ignition\u001b[0;34m(self)\u001b[0m\n\u001b[1;32m     58\u001b[0m \u001b[38;5;28;01mtry\u001b[39;00m:\n\u001b[0;32m---> 59\u001b[0m     \u001b[38;5;28;43mself\u001b[39;49m\u001b[38;5;241;43m.\u001b[39;49m\u001b[43mengine\u001b[49m\u001b[38;5;241;43m.\u001b[39;49m\u001b[43mcheck_ignition\u001b[49m\u001b[43m(\u001b[49m\u001b[43m)\u001b[49m\n\u001b[1;32m     60\u001b[0m \u001b[38;5;28;01mexcept\u001b[39;00m IgnitionException \u001b[38;5;28;01mas\u001b[39;00m e:\n\u001b[1;32m     61\u001b[0m     \u001b[38;5;66;03m# TODO Upgrade to Python 3.11\u001b[39;00m\n\u001b[1;32m     62\u001b[0m     \u001b[38;5;66;03m# e.add_note(\"Did you try flicking the switch?\")\u001b[39;00m\n",
      "File \u001b[0;32m~/Developer/Presentations/pyton_exception_handling/code/classes/engine.py:12\u001b[0m, in \u001b[0;36mEngine.check_ignition\u001b[0;34m(self)\u001b[0m\n\u001b[1;32m     11\u001b[0m \u001b[38;5;28;01mif\u001b[39;00m \u001b[38;5;129;01mnot\u001b[39;00m \u001b[38;5;28mself\u001b[39m\u001b[38;5;241m.\u001b[39mignition:\n\u001b[0;32m---> 12\u001b[0m     \u001b[38;5;28;01mraise\u001b[39;00m IgnitionException(\u001b[38;5;124m\"\u001b[39m\u001b[38;5;124mEngine has no ignition\u001b[39m\u001b[38;5;124m\"\u001b[39m)\n\u001b[1;32m     13\u001b[0m \u001b[38;5;28;01mreturn\u001b[39;00m \u001b[38;5;28mself\u001b[39m\u001b[38;5;241m.\u001b[39mignition\n",
      "\u001b[0;31mIgnitionException\u001b[0m: Engine has no ignition",
      "\nThe above exception was the direct cause of the following exception:\n",
      "\u001b[0;31mStartUpAbort\u001b[0m                              Traceback (most recent call last)",
      "Cell \u001b[0;32mIn[119], line 18\u001b[0m\n\u001b[1;32m     15\u001b[0m     \u001b[38;5;28;01mfinally\u001b[39;00m:\n\u001b[1;32m     16\u001b[0m         \u001b[38;5;28mprint\u001b[39m(\u001b[38;5;124m\"\u001b[39m\u001b[38;5;124mFinished startup check procedure\u001b[39m\u001b[38;5;124m\"\u001b[39m)\n\u001b[0;32m---> 18\u001b[0m \u001b[43mrocket_2\u001b[49m\u001b[38;5;241;43m.\u001b[39;49m\u001b[43mstartup_sequence\u001b[49m\u001b[43m(\u001b[49m\u001b[43m)\u001b[49m\n",
      "File \u001b[0;32m~/Developer/Presentations/pyton_exception_handling/code/classes/rocket.py:87\u001b[0m, in \u001b[0;36mRocket.startup_sequence\u001b[0;34m(self)\u001b[0m\n\u001b[1;32m     85\u001b[0m \u001b[38;5;28;01mexcept\u001b[39;00m StartUpAbort \u001b[38;5;28;01mas\u001b[39;00m abort:\n\u001b[1;32m     86\u001b[0m     \u001b[38;5;28mprint\u001b[39m(\u001b[38;5;124m\"\u001b[39m\u001b[38;5;124mFound something wrong, startup halted!\u001b[39m\u001b[38;5;124m\"\u001b[39m)\n\u001b[0;32m---> 87\u001b[0m     \u001b[38;5;28;01mraise\u001b[39;00m abort\n\u001b[1;32m     88\u001b[0m \u001b[38;5;28;01melse\u001b[39;00m:\n\u001b[1;32m     89\u001b[0m     \u001b[38;5;28mprint\u001b[39m(\u001b[38;5;124m\"\u001b[39m\u001b[38;5;124mAll systems are go!\u001b[39m\u001b[38;5;124m\"\u001b[39m)\n",
      "File \u001b[0;32m~/Developer/Presentations/pyton_exception_handling/code/classes/rocket.py:84\u001b[0m, in \u001b[0;36mRocket.startup_sequence\u001b[0;34m(self)\u001b[0m\n\u001b[1;32m     82\u001b[0m     \u001b[38;5;28mself\u001b[39m\u001b[38;5;241m.\u001b[39mrefuel(\u001b[38;5;124m\"\u001b[39m\u001b[38;5;124mDiesel\u001b[39m\u001b[38;5;124m\"\u001b[39m, \u001b[38;5;241m110\u001b[39m) \n\u001b[1;32m     83\u001b[0m     \u001b[38;5;28mself\u001b[39m\u001b[38;5;241m.\u001b[39mtest_communication()\n\u001b[0;32m---> 84\u001b[0m     \u001b[38;5;28;43mself\u001b[39;49m\u001b[38;5;241;43m.\u001b[39;49m\u001b[43mcheck_ignition\u001b[49m\u001b[43m(\u001b[49m\u001b[43m)\u001b[49m\n\u001b[1;32m     85\u001b[0m \u001b[38;5;28;01mexcept\u001b[39;00m StartUpAbort \u001b[38;5;28;01mas\u001b[39;00m abort:\n\u001b[1;32m     86\u001b[0m     \u001b[38;5;28mprint\u001b[39m(\u001b[38;5;124m\"\u001b[39m\u001b[38;5;124mFound something wrong, startup halted!\u001b[39m\u001b[38;5;124m\"\u001b[39m)\n",
      "File \u001b[0;32m~/Developer/Presentations/pyton_exception_handling/code/classes/rocket.py:63\u001b[0m, in \u001b[0;36mRocket.check_ignition\u001b[0;34m(self)\u001b[0m\n\u001b[1;32m     59\u001b[0m     \u001b[38;5;28mself\u001b[39m\u001b[38;5;241m.\u001b[39mengine\u001b[38;5;241m.\u001b[39mcheck_ignition()\n\u001b[1;32m     60\u001b[0m \u001b[38;5;28;01mexcept\u001b[39;00m IgnitionException \u001b[38;5;28;01mas\u001b[39;00m e:\n\u001b[1;32m     61\u001b[0m     \u001b[38;5;66;03m# TODO Upgrade to Python 3.11\u001b[39;00m\n\u001b[1;32m     62\u001b[0m     \u001b[38;5;66;03m# e.add_note(\"Did you try flicking the switch?\")\u001b[39;00m\n\u001b[0;32m---> 63\u001b[0m     \u001b[38;5;28;01mraise\u001b[39;00m StartUpAbort \u001b[38;5;28;01mfrom\u001b[39;00m \u001b[38;5;21;01me\u001b[39;00m\n",
      "\u001b[0;31mStartUpAbort\u001b[0m: "
     ]
    }
   ],
   "source": [
    "from classes.rocket import Rocket\n",
    "rocket_2 = Rocket(\"Artmis 2\")\n",
    "\n",
    "def startup_sequence(self):\n",
    "    try:\n",
    "        self.refuel(\"Diesel\", 110) \n",
    "        self.test_communication()\n",
    "        self.check_ignition()\n",
    "    except StartUpAbort as abort:\n",
    "        print(\"Found something wrong, startup halted!\")\n",
    "        raise\n",
    "    else:\n",
    "        print(\"All systems are go!\")\n",
    "        self.startup_completed = True\n",
    "    finally:\n",
    "        print(\"Finished startup check procedure\")\n",
    "\n",
    "rocket_2.startup_sequence()"
   ]
  },
  {
   "cell_type": "markdown",
   "id": "4027cac6",
   "metadata": {
    "slideshow": {
     "slide_type": "slide"
    }
   },
   "source": [
    "# Suppressing errors"
   ]
  },
  {
   "cell_type": "code",
   "execution_count": null,
   "id": "52690604",
   "metadata": {
    "slideshow": {
     "slide_type": "-"
    }
   },
   "outputs": [],
   "source": [
    "class CommandCentre:\n",
    "    def __init__(self) -> None:\n",
    "        self.signal = 100\n",
    "        \n",
    "    def generate_transmissions(self):\n",
    "        messages = [\n",
    "            \"Message 1\",\n",
    "            {\"number\": 5},\n",
    "            \"Message 2\",\n",
    "            5,\n",
    "            \"Message 3\"\n",
    "        ]\n",
    "        for message in messages:\n",
    "            yield message  "
   ]
  },
  {
   "cell_type": "code",
   "execution_count": null,
   "id": "fe7b585a",
   "metadata": {
    "slideshow": {
     "slide_type": "subslide"
    }
   },
   "outputs": [],
   "source": [
    "def receive_transmissions():\n",
    "    centre = CommandCentre()\n",
    "    transmission_generator = centre.generate_transmissions()\n",
    "    while True:\n",
    "        try:\n",
    "            transmission = next(transmission_generator)\n",
    "            try:\n",
    "                transmission = transmission.strip()\n",
    "            except AttributeError:\n",
    "                continue\n",
    "            except TypeError:\n",
    "                continue\n",
    "            else:\n",
    "                print(f\"Received: {transmission}\")\n",
    "        except StopIteration:\n",
    "            print(\"End of transmission\")\n",
    "            break\n",
    "        \n",
    "receive_transmissions()"
   ]
  },
  {
   "cell_type": "code",
   "execution_count": null,
   "id": "bbc749af",
   "metadata": {
    "slideshow": {
     "slide_type": "subslide"
    }
   },
   "outputs": [],
   "source": [
    "from contextlib import suppress\n",
    "\n",
    "def receive_transmissions():\n",
    "    centre = CommandCentre()\n",
    "    transmission_generator = centre.generate_transmissions()    \n",
    "    while True:\n",
    "        try:\n",
    "            transmission = next(transmission_generator)\n",
    "            with suppress((AttributeError, TypeError)):\n",
    "                transmission = transmission.strip()\n",
    "                print(f\"Received: {transmission}\")\n",
    "        except StopIteration:\n",
    "            print(\"End of transmission\")\n",
    "            break\n",
    "\n",
    "receive_transmissions()"
   ]
  },
  {
   "cell_type": "markdown",
   "id": "a883aad4",
   "metadata": {
    "slideshow": {
     "slide_type": "notes"
    }
   },
   "source": [
    "With suppress uses a ContextManager to handle the Exceptions. The result is the same as the code in the previous slide but it is easier to read and more Pythonic.\n",
    "\n",
    "Return a context manager that suppresses any of the specified exceptions if they occur in the body of a with statement and then resumes execution with the first statement following the end of the with statement."
   ]
  },
  {
   "cell_type": "markdown",
   "id": "0807bc7d",
   "metadata": {
    "slideshow": {
     "slide_type": "slide"
    }
   },
   "source": [
    "## Async Exception Handling"
   ]
  },
  {
   "cell_type": "code",
   "execution_count": null,
   "id": "326a5565",
   "metadata": {
    "slideshow": {
     "slide_type": "-"
    }
   },
   "outputs": [],
   "source": [
    "class MotorError(Exception):\n",
    "    pass\n",
    "\n",
    "class IgnitionException(MotorError):\n",
    "    def __init__(self, motor) -> None:\n",
    "        self.motor = motor\n",
    "        message = f\"Motor {motor} failed to ignite\"\n",
    "        super().__init__(message)\n",
    "\n",
    "    def __str__(self):\n",
    "        return f\"Error in engine {self.motor}\""
   ]
  },
  {
   "cell_type": "code",
   "execution_count": null,
   "id": "21d6db1a",
   "metadata": {
    "slideshow": {
     "slide_type": "subslide"
    }
   },
   "outputs": [],
   "source": [
    "import asyncio\n",
    "import random\n",
    "\n",
    "async def fire_engine(motor):\n",
    "    print(f\"Attempting to fire motor {motor}\")\n",
    "    engine_fires_chance = random.random()\n",
    "    \n",
    "    if engine_fires_chance < 0.3:\n",
    "        raise MotorError(f\"Something went wrong in motor {motor}\")\n",
    "        \n",
    "    elif engine_fires_chance >= 0.8:\n",
    "        print(f\"Motor {motor} failed to fire\")\n",
    "        raise IgnitionException(motor)\n",
    "        \n",
    "    print(f\"Motor {motor} fired up!\")"
   ]
  },
  {
   "cell_type": "code",
   "execution_count": null,
   "id": "24c68c49",
   "metadata": {
    "slideshow": {
     "slide_type": "subslide"
    }
   },
   "outputs": [],
   "source": [
    "async def apply_throttle(motors):\n",
    "    try:\n",
    "        async with asyncio.TaskGroup() as tg:\n",
    "            for x in range(motors):\n",
    "                tg.create_task(\n",
    "                    fire_engine(x)\n",
    "                )\n",
    "    except* IgnitionException as e:\n",
    "        print(f\"Handling IgnitionErrors: {e.exceptions}\")\n",
    "        print(e.exceptions)\n",
    "    except* MotorError as e:\n",
    "        print(f\"Handling MotorErrors: {e.exceptions}\")\n",
    "        print(e.exceptions)"
   ]
  },
  {
   "cell_type": "code",
   "execution_count": null,
   "id": "c1c41ae4",
   "metadata": {
    "slideshow": {
     "slide_type": "subslide"
    }
   },
   "outputs": [],
   "source": [
    "engine = Engine(motors=4)\n",
    "await apply_throttle(4)"
   ]
  }
 ],
 "metadata": {
  "celltoolbar": "Slideshow",
  "kernelspec": {
   "display_name": "Python 3 (ipykernel)",
   "language": "python",
   "name": "python3"
  },
  "language_info": {
   "codemirror_mode": {
    "name": "ipython",
    "version": 3
   },
   "file_extension": ".py",
   "mimetype": "text/x-python",
   "name": "python",
   "nbconvert_exporter": "python",
   "pygments_lexer": "ipython3",
   "version": "3.11.3"
  },
  "rise": {
   "footer": "<h2  style='text-align: right;'>Error handling is boring but this is the Exception - Vito Minheere 03-05-2023</h2>",
   "scroll": true,
   "theme": "simple"
  }
 },
 "nbformat": 4,
 "nbformat_minor": 5
}
